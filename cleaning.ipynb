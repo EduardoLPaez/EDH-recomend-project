{
 "nbformat": 4,
 "nbformat_minor": 2,
 "metadata": {
  "language_info": {
   "name": "python",
   "codemirror_mode": {
    "name": "ipython",
    "version": 3
   },
   "version": "3.6.9-final"
  },
  "orig_nbformat": 2,
  "file_extension": ".py",
  "mimetype": "text/x-python",
  "name": "python",
  "npconvert_exporter": "python",
  "pygments_lexer": "ipython3",
  "version": 3,
  "kernelspec": {
   "name": "python36964bit7e56cf6a3162430087e12a19a3617961",
   "display_name": "Python 3.6.9 64-bit"
  }
 },
 "cells": [
  {
   "cell_type": "code",
   "execution_count": 1,
   "metadata": {},
   "outputs": [],
   "source": [
    "import pandas as pd\n",
    "import numpy as np\n",
    "import re\n",
    "\n",
    "pd.set_option('display.max_columns', 500)\n",
    "pd.set_option('display.max_rows', 100)"
   ]
  },
  {
   "cell_type": "code",
   "execution_count": null,
   "metadata": {},
   "outputs": [],
   "source": [
    "# api_end = \"https://api.scryfall.com\" # using tapped out api instaed. \n",
    "mtg_whole = pd.read_csv(\"mtg_modern_whole.csv\")\n",
    "\n",
    "mtg_whole.dtypes"
   ]
  },
  {
   "cell_type": "code",
   "execution_count": null,
   "metadata": {},
   "outputs": [],
   "source": [
    "name_, id_= [],[] # this code pulls unique names and id's of cards for removing reprints.\n",
    "for i,el in enumerate(mtg_whole['name']):\n",
    "    if el not in name_:\n",
    "        name_.append(el)\n",
    "        id_.append(mtg_whole['id'][i])\n",
    "len(id_)"
   ]
  },
  {
   "cell_type": "code",
   "execution_count": null,
   "metadata": {},
   "outputs": [],
   "source": [
    "# removes reprints from data\n",
    "mtg_whole = mtg_whole.query(f\"id == {id_}\")\n",
    "# writes the cleanned dataframe to a csv. .(always save work!!!)\n",
    "mtg_whole.to_csv('mtg_modern_clean.csv')"
   ]
  },
  {
   "cell_type": "code",
   "execution_count": 2,
   "metadata": {},
   "outputs": [
    {
     "output_type": "stream",
     "name": "stderr",
     "text": "/home/ed/.local/lib/python3.6/site-packages/IPython/core/interactiveshell.py:3063: DtypeWarning: Columns (9,15,39) have mixed types.Specify dtype option on import or set low_memory=False.\n  interactivity=interactivity, compiler=compiler, result=result)\n"
    }
   ],
   "source": [
    "mtg_modern = pd.read_csv('mtg_modern_clean.csv')"
   ]
  },
  {
   "cell_type": "code",
   "execution_count": 3,
   "metadata": {},
   "outputs": [
    {
     "output_type": "execute_result",
     "data": {
      "text/plain": "(314,)"
     },
     "metadata": {},
     "execution_count": 3
    }
   ],
   "source": [
    "mtg_modern['name'].where(mtg_modern['text'].isna()).dropna(how='all').shape # cards with no rules text. "
   ]
  },
  {
   "cell_type": "code",
   "execution_count": 4,
   "metadata": {},
   "outputs": [
    {
     "output_type": "execute_result",
     "data": {
      "text/plain": "                  name names power toughness  \\\n0            Abundance   NaN   NaN       NaN   \n1  Academy Researchers   NaN     2         2   \n2       Adarkar Wastes   NaN   NaN       NaN   \n\n                                                text                     type  \\\n0  If you would draw a card, you may instead choo...              Enchantment   \n1  When Academy Researchers enters the battlefiel...  Creature — Human Wizard   \n2  {T}: Add {C}.\\n{T}: Add {W} or {U}. Adarkar Wa...                     Land   \n\n         types      subtypes supertypes    rarity colorIdentity colors  \\\n0  Enchantment           NaN        NaN      rare             G      G   \n1     Creature  Human,Wizard        NaN  uncommon             U      U   \n2         Land           NaN        NaN      rare           U,W    NaN   \n\n   convertedManaCost   manaCost  faceConvertedManaCost side  \n0                4.0  {2}{G}{G}                    NaN  NaN  \n1                3.0  {1}{U}{U}                    NaN  NaN  \n2                0.0        NaN                    NaN  NaN  ",
      "text/html": "<div>\n<style scoped>\n    .dataframe tbody tr th:only-of-type {\n        vertical-align: middle;\n    }\n\n    .dataframe tbody tr th {\n        vertical-align: top;\n    }\n\n    .dataframe thead th {\n        text-align: right;\n    }\n</style>\n<table border=\"1\" class=\"dataframe\">\n  <thead>\n    <tr style=\"text-align: right;\">\n      <th></th>\n      <th>name</th>\n      <th>names</th>\n      <th>power</th>\n      <th>toughness</th>\n      <th>text</th>\n      <th>type</th>\n      <th>types</th>\n      <th>subtypes</th>\n      <th>supertypes</th>\n      <th>rarity</th>\n      <th>colorIdentity</th>\n      <th>colors</th>\n      <th>convertedManaCost</th>\n      <th>manaCost</th>\n      <th>faceConvertedManaCost</th>\n      <th>side</th>\n    </tr>\n  </thead>\n  <tbody>\n    <tr>\n      <th>0</th>\n      <td>Abundance</td>\n      <td>NaN</td>\n      <td>NaN</td>\n      <td>NaN</td>\n      <td>If you would draw a card, you may instead choo...</td>\n      <td>Enchantment</td>\n      <td>Enchantment</td>\n      <td>NaN</td>\n      <td>NaN</td>\n      <td>rare</td>\n      <td>G</td>\n      <td>G</td>\n      <td>4.0</td>\n      <td>{2}{G}{G}</td>\n      <td>NaN</td>\n      <td>NaN</td>\n    </tr>\n    <tr>\n      <th>1</th>\n      <td>Academy Researchers</td>\n      <td>NaN</td>\n      <td>2</td>\n      <td>2</td>\n      <td>When Academy Researchers enters the battlefiel...</td>\n      <td>Creature — Human Wizard</td>\n      <td>Creature</td>\n      <td>Human,Wizard</td>\n      <td>NaN</td>\n      <td>uncommon</td>\n      <td>U</td>\n      <td>U</td>\n      <td>3.0</td>\n      <td>{1}{U}{U}</td>\n      <td>NaN</td>\n      <td>NaN</td>\n    </tr>\n    <tr>\n      <th>2</th>\n      <td>Adarkar Wastes</td>\n      <td>NaN</td>\n      <td>NaN</td>\n      <td>NaN</td>\n      <td>{T}: Add {C}.\\n{T}: Add {W} or {U}. Adarkar Wa...</td>\n      <td>Land</td>\n      <td>Land</td>\n      <td>NaN</td>\n      <td>NaN</td>\n      <td>rare</td>\n      <td>U,W</td>\n      <td>NaN</td>\n      <td>0.0</td>\n      <td>NaN</td>\n      <td>NaN</td>\n      <td>NaN</td>\n    </tr>\n  </tbody>\n</table>\n</div>"
     },
     "metadata": {},
     "execution_count": 4
    }
   ],
   "source": [
    "# pulls only usable data for clustering.\n",
    "mtg_whole_2 = mtg_modern[['name', 'names', 'power', 'toughness', 'text', 'type', 'types', 'subtypes', 'supertypes', 'rarity', 'colorIdentity', 'colors', 'convertedManaCost', 'manaCost', 'faceConvertedManaCost',  'side', ]] # filters that would matter.\n",
    "#'id', 'borderColor', 'enhrecRank', 'tcgplayerProductId', 'uuid', 'watermark', 'variations', 'originalText', 'originalType', 'scryfallIllustrationId', 'scryfallOracleId'])\n",
    "mtg_whole_2.head(3)"
   ]
  },
  {
   "cell_type": "code",
   "execution_count": 5,
   "metadata": {},
   "outputs": [
    {
     "output_type": "stream",
     "name": "stderr",
     "text": "/home/ed/.local/lib/python3.6/site-packages/ipykernel_launcher.py:5: SettingWithCopyWarning: \nA value is trying to be set on a copy of a slice from a DataFrame.\nTry using .loc[row_indexer,col_indexer] = value instead\n\nSee the caveats in the documentation: https://pandas.pydata.org/pandas-docs/stable/user_guide/indexing.html#returning-a-view-versus-a-copy\n  \"\"\"\n/home/ed/.local/lib/python3.6/site-packages/ipykernel_launcher.py:7: SettingWithCopyWarning: \nA value is trying to be set on a copy of a slice from a DataFrame.\nTry using .loc[row_indexer,col_indexer] = value instead\n\nSee the caveats in the documentation: https://pandas.pydata.org/pandas-docs/stable/user_guide/indexing.html#returning-a-view-versus-a-copy\n  import sys\n/home/ed/.local/lib/python3.6/site-packages/ipykernel_launcher.py:11: SettingWithCopyWarning: \nA value is trying to be set on a copy of a slice from a DataFrame.\nTry using .loc[row_indexer,col_indexer] = value instead\n\nSee the caveats in the documentation: https://pandas.pydata.org/pandas-docs/stable/user_guide/indexing.html#returning-a-view-versus-a-copy\n  # This is added back by InteractiveShellApp.init_path()\n/home/ed/.local/lib/python3.6/site-packages/ipykernel_launcher.py:12: SettingWithCopyWarning: \nA value is trying to be set on a copy of a slice from a DataFrame.\nTry using .loc[row_indexer,col_indexer] = value instead\n\nSee the caveats in the documentation: https://pandas.pydata.org/pandas-docs/stable/user_guide/indexing.html#returning-a-view-versus-a-copy\n  if sys.path[0] == '':\n/home/ed/.local/lib/python3.6/site-packages/pandas/core/frame.py:3997: SettingWithCopyWarning: \nA value is trying to be set on a copy of a slice from a DataFrame\n\nSee the caveats in the documentation: https://pandas.pydata.org/pandas-docs/stable/user_guide/indexing.html#returning-a-view-versus-a-copy\n  errors=errors,\n"
    },
    {
     "output_type": "execute_result",
     "data": {
      "text/plain": "                  name names power toughness  \\\n0            Abundance   NaN   NaN       NaN   \n1  Academy Researchers   NaN     2         2   \n\n                                                text                     type  \\\n0  If you would draw a card, you may instead choo...              Enchantment   \n1  When Academy Researchers enters the battlefiel...  Creature — Human Wizard   \n\n         types      subtypes supertypes    rarity colorIdentity  \\\n0  Enchantment           NaN        NaN      rare             G   \n1     Creature  Human,Wizard        NaN  uncommon             U   \n\n   convertedManaCost  faceConvertedManaCost side  manaCost_Green  \\\n0                4.0                    NaN  NaN               2   \n1                3.0                    NaN  NaN               0   \n\n   manaCost_Blue  manaCost_Black  manaCost_Red  manaCost_White  \\\n0              0               0             0               0   \n1              2               0             0               0   \n\n   manaCost_colorless  colorIdentity_Green  colorIdentity_Blue  \\\n0                   2                    1                   0   \n1                   1                    0                   1   \n\n   colorIdentity_Black  colorIdentity_Red  colorIdentity_White  \\\n0                    0                  0                    0   \n1                    0                  0                    0   \n\n   colorIdentity_colorless  \n0                        0  \n1                        0  ",
      "text/html": "<div>\n<style scoped>\n    .dataframe tbody tr th:only-of-type {\n        vertical-align: middle;\n    }\n\n    .dataframe tbody tr th {\n        vertical-align: top;\n    }\n\n    .dataframe thead th {\n        text-align: right;\n    }\n</style>\n<table border=\"1\" class=\"dataframe\">\n  <thead>\n    <tr style=\"text-align: right;\">\n      <th></th>\n      <th>name</th>\n      <th>names</th>\n      <th>power</th>\n      <th>toughness</th>\n      <th>text</th>\n      <th>type</th>\n      <th>types</th>\n      <th>subtypes</th>\n      <th>supertypes</th>\n      <th>rarity</th>\n      <th>colorIdentity</th>\n      <th>convertedManaCost</th>\n      <th>faceConvertedManaCost</th>\n      <th>side</th>\n      <th>manaCost_Green</th>\n      <th>manaCost_Blue</th>\n      <th>manaCost_Black</th>\n      <th>manaCost_Red</th>\n      <th>manaCost_White</th>\n      <th>manaCost_colorless</th>\n      <th>colorIdentity_Green</th>\n      <th>colorIdentity_Blue</th>\n      <th>colorIdentity_Black</th>\n      <th>colorIdentity_Red</th>\n      <th>colorIdentity_White</th>\n      <th>colorIdentity_colorless</th>\n    </tr>\n  </thead>\n  <tbody>\n    <tr>\n      <th>0</th>\n      <td>Abundance</td>\n      <td>NaN</td>\n      <td>NaN</td>\n      <td>NaN</td>\n      <td>If you would draw a card, you may instead choo...</td>\n      <td>Enchantment</td>\n      <td>Enchantment</td>\n      <td>NaN</td>\n      <td>NaN</td>\n      <td>rare</td>\n      <td>G</td>\n      <td>4.0</td>\n      <td>NaN</td>\n      <td>NaN</td>\n      <td>2</td>\n      <td>0</td>\n      <td>0</td>\n      <td>0</td>\n      <td>0</td>\n      <td>2</td>\n      <td>1</td>\n      <td>0</td>\n      <td>0</td>\n      <td>0</td>\n      <td>0</td>\n      <td>0</td>\n    </tr>\n    <tr>\n      <th>1</th>\n      <td>Academy Researchers</td>\n      <td>NaN</td>\n      <td>2</td>\n      <td>2</td>\n      <td>When Academy Researchers enters the battlefiel...</td>\n      <td>Creature — Human Wizard</td>\n      <td>Creature</td>\n      <td>Human,Wizard</td>\n      <td>NaN</td>\n      <td>uncommon</td>\n      <td>U</td>\n      <td>3.0</td>\n      <td>NaN</td>\n      <td>NaN</td>\n      <td>0</td>\n      <td>2</td>\n      <td>0</td>\n      <td>0</td>\n      <td>0</td>\n      <td>1</td>\n      <td>0</td>\n      <td>1</td>\n      <td>0</td>\n      <td>0</td>\n      <td>0</td>\n      <td>0</td>\n    </tr>\n  </tbody>\n</table>\n</div>"
     },
     "metadata": {},
     "execution_count": 5
    }
   ],
   "source": [
    "names = ['Green','Blue','Black','Red','White']\n",
    "start_ = ['G','U','B','R','W']\n",
    "\n",
    "for i,el in enumerate(names): # creates columns with cost of colors\n",
    "    mtg_whole_2[f'manaCost_{el}'] = mtg_whole_2['manaCost'].apply(lambda x: str(x).count(f'{start_[i]}'))\n",
    "# bellow gennerates cost of colorless. \n",
    "mtg_whole_2['manaCost_colorless'] = mtg_whole_2['convertedManaCost'].astype('int') - sum([mtg_whole_2['manaCost_Green'],mtg_whole_2['manaCost_Red'],mtg_whole_2['manaCost_Black'],mtg_whole_2['manaCost_Blue'], mtg_whole_2['manaCost_White']])\n",
    "\n",
    "for i,el in enumerate(names):\n",
    "    # identityVV\n",
    "    mtg_whole_2[f'colorIdentity_{el}'] = mtg_whole_2['colorIdentity'].apply(lambda x: str(x).count(f'{start_[i]}'))\n",
    "mtg_whole_2['colorIdentity_colorless'] = [1 if x == True else 0 for x in mtg_whole_2['colorIdentity'].isna()]\n",
    "\n",
    "mtg_whole_2.drop(columns = ['manaCost','colors'], inplace = True)\n",
    "mtg_whole_2.head(2)"
   ]
  },
  {
   "cell_type": "code",
   "execution_count": 6,
   "metadata": {},
   "outputs": [],
   "source": [
    "# separates data by distinct card type for clustering within these.\n",
    "creatures = mtg_whole_2.where(mtg_whole_2['types'].str.endswith('Creature')).dropna(how='all') # add artifact/enchanntment creatures.\n",
    "spells = mtg_whole_2.where(mtg_whole_2['types'].str.endswith(('Sorcery', 'Instant'))).drop(columns = [ 'power', 'toughness']).dropna(how='all') # add trybal spells.\n",
    "\n",
    "artifacts = mtg_whole_2.where(mtg_whole_2['types'].str.endswith('Artifact')).drop(columns = ['power', 'toughness']).dropna(how='all') # filter out artefact lands\n",
    "\n",
    "enchantments = mtg_whole_2.where(mtg_whole_2['types'].str.endswith('Enchantment' )).drop(columns = [ 'power', 'toughness']).dropna(how='all')\n",
    "\n",
    "planeswalkers = mtg_whole_2.where(mtg_whole_2['types'].str.endswith('Planeswalker')).drop(columns = [ 'power', 'toughness']).dropna(how='all')"
   ]
  },
  {
   "cell_type": "code",
   "execution_count": 7,
   "metadata": {},
   "outputs": [],
   "source": [
    "# mtg_whole_2['types'].value_counts()\n",
    "# spells['types'].value_counts()\n",
    "comanders = creatures.where(creatures['type'].str.startswith('Legendary Creature')).dropna(how = 'all')"
   ]
  },
  {
   "cell_type": "code",
   "execution_count": 8,
   "metadata": {},
   "outputs": [
    {
     "output_type": "execute_result",
     "data": {
      "text/plain": "name                       869\nnames                       36\npower                      869\ntoughness                  869\ntext                       856\ntype                       869\ntypes                      869\nsubtypes                   869\nsupertypes                 869\nrarity                     869\ncolorIdentity              863\nconvertedManaCost          869\nfaceConvertedManaCost       12\nside                        36\nmanaCost_Green             869\nmanaCost_Blue              869\nmanaCost_Black             869\nmanaCost_Red               869\nmanaCost_White             869\nmanaCost_colorless         869\ncolorIdentity_Green        869\ncolorIdentity_Blue         869\ncolorIdentity_Black        869\ncolorIdentity_Red          869\ncolorIdentity_White        869\ncolorIdentity_colorless    869\ndtype: int64"
     },
     "metadata": {},
     "execution_count": 8
    }
   ],
   "source": [
    "comanders.count()"
   ]
  },
  {
   "cell_type": "code",
   "execution_count": null,
   "metadata": {},
   "outputs": [],
   "source": []
  }
 ]
}
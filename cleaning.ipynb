{
 "nbformat": 4,
 "nbformat_minor": 2,
 "metadata": {
  "language_info": {
   "name": "python",
   "codemirror_mode": {
    "name": "ipython",
    "version": 3
   },
   "version": "3.6.9-final"
  },
  "orig_nbformat": 2,
  "file_extension": ".py",
  "mimetype": "text/x-python",
  "name": "python",
  "npconvert_exporter": "python",
  "pygments_lexer": "ipython3",
  "version": 3,
  "kernelspec": {
   "name": "python36964bit7e56cf6a3162430087e12a19a3617961",
   "display_name": "Python 3.6.9 64-bit"
  }
 },
 "cells": [
  {
   "cell_type": "code",
   "execution_count": 23,
   "metadata": {},
   "outputs": [],
   "source": [
    "import pandas as pd\n",
    "import numpy as np\n",
    "import re\n",
    "\n",
    "pd.set_option('display.max_columns', 500)\n",
    "pd.set_option('display.max_rows', 100)"
   ]
  },
  {
   "cell_type": "code",
   "execution_count": null,
   "metadata": {},
   "outputs": [],
   "source": [
    "# api_end = \"https://api.scryfall.com\" # using tapped out api instaed. \n",
    "mtg_whole = pd.read_csv(\"mtg_modern_whole.csv\")\n",
    "\n",
    "mtg_whole.dtypes"
   ]
  },
  {
   "cell_type": "code",
   "execution_count": null,
   "metadata": {},
   "outputs": [],
   "source": [
    "name_, id_= [],[] # this code pulls unique names and id's of cards for removing reprints.\n",
    "for i,el in enumerate(mtg_whole['name']):\n",
    "    if el not in name_:\n",
    "        name_.append(el)\n",
    "        id_.append(mtg_whole['id'][i])\n",
    "len(id_)"
   ]
  },
  {
   "cell_type": "code",
   "execution_count": null,
   "metadata": {},
   "outputs": [],
   "source": [
    "# removes reprints from data\n",
    "mtg_whole = mtg_whole.query(f\"id == {id_}\")\n",
    "# writes the cleanned dataframe to a csv. .(always save work!!!)\n",
    "mtg_whole.to_csv('mtg_modern_clean.csv')"
   ]
  },
  {
   "cell_type": "code",
   "execution_count": 3,
   "metadata": {},
   "outputs": [
    {
     "name": "stderr",
     "output_type": "stream",
     "text": "/home/ed/.local/lib/python3.6/site-packages/IPython/core/interactiveshell.py:3063: DtypeWarning: Columns (9,15,39) have mixed types.Specify dtype option on import or set low_memory=False.\n  interactivity=interactivity, compiler=compiler, result=result)\n"
    }
   ],
   "source": [
    "mtg_modern = pd.read_csv('mtg_modern_clean.csv')"
   ]
  },
  {
   "cell_type": "code",
   "execution_count": 4,
   "metadata": {},
   "outputs": [
    {
     "data": {
      "text/plain": "(314,)"
     },
     "execution_count": 4,
     "metadata": {},
     "output_type": "execute_result"
    }
   ],
   "source": [
    "mtg_modern['name'].where(mtg_modern['text'].isna()).dropna(how='all').shape # cards with no rules text. "
   ]
  },
  {
   "cell_type": "code",
   "execution_count": 5,
   "metadata": {},
   "outputs": [
    {
     "data": {
      "text/html": "<div>\n<style scoped>\n    .dataframe tbody tr th:only-of-type {\n        vertical-align: middle;\n    }\n\n    .dataframe tbody tr th {\n        vertical-align: top;\n    }\n\n    .dataframe thead th {\n        text-align: right;\n    }\n</style>\n<table border=\"1\" class=\"dataframe\">\n  <thead>\n    <tr style=\"text-align: right;\">\n      <th></th>\n      <th>Unnamed: 0</th>\n      <th>Unnamed: 0.1</th>\n      <th>id</th>\n      <th>artist</th>\n      <th>borderColor</th>\n      <th>colorIdentity</th>\n      <th>colorIndicator</th>\n      <th>colors</th>\n      <th>convertedManaCost</th>\n      <th>duelDeck</th>\n      <th>edhrecRank</th>\n      <th>faceConvertedManaCost</th>\n      <th>flavorText</th>\n      <th>frameEffect</th>\n      <th>frameEffects</th>\n      <th>frameVersion</th>\n      <th>hand</th>\n      <th>hasFoil</th>\n      <th>hasNoDeckLimit</th>\n      <th>hasNonFoil</th>\n      <th>isAlternative</th>\n      <th>isArena</th>\n      <th>isBuyABox</th>\n      <th>isDateStamped</th>\n      <th>isFullArt</th>\n      <th>isMtgo</th>\n      <th>isOnlineOnly</th>\n      <th>isOversized</th>\n      <th>isPaper</th>\n      <th>isPromo</th>\n      <th>isReprint</th>\n      <th>isReserved</th>\n      <th>isStarter</th>\n      <th>isStorySpotlight</th>\n      <th>isTextless</th>\n      <th>isTimeshifted</th>\n      <th>layout</th>\n      <th>leadershipSkills</th>\n      <th>life</th>\n      <th>loyalty</th>\n      <th>manaCost</th>\n      <th>mcmId</th>\n      <th>mcmMetaId</th>\n      <th>mtgArenaId</th>\n      <th>mtgoFoilId</th>\n      <th>mtgoId</th>\n      <th>multiverseId</th>\n      <th>name</th>\n      <th>names</th>\n      <th>number</th>\n      <th>originalText</th>\n      <th>originalType</th>\n      <th>otherFaceIds</th>\n      <th>power</th>\n      <th>printings</th>\n      <th>purchaseUrls</th>\n      <th>rarity</th>\n      <th>scryfallId</th>\n      <th>scryfallIllustrationId</th>\n      <th>scryfallOracleId</th>\n      <th>setCode</th>\n      <th>side</th>\n      <th>subtypes</th>\n      <th>supertypes</th>\n      <th>tcgplayerProductId</th>\n      <th>text</th>\n      <th>toughness</th>\n      <th>type</th>\n      <th>types</th>\n      <th>uuid</th>\n      <th>variations</th>\n      <th>watermark</th>\n    </tr>\n  </thead>\n  <tbody>\n    <tr>\n      <th>0</th>\n      <td>0</td>\n      <td>0</td>\n      <td>1</td>\n      <td>Rebecca Guay</td>\n      <td>black</td>\n      <td>G</td>\n      <td>NaN</td>\n      <td>G</td>\n      <td>4.0</td>\n      <td>NaN</td>\n      <td>980.0</td>\n      <td>NaN</td>\n      <td>NaN</td>\n      <td>NaN</td>\n      <td>NaN</td>\n      <td>2003</td>\n      <td>NaN</td>\n      <td>1</td>\n      <td>0</td>\n      <td>1</td>\n      <td>0</td>\n      <td>0</td>\n      <td>0</td>\n      <td>0</td>\n      <td>0</td>\n      <td>1</td>\n      <td>0</td>\n      <td>0</td>\n      <td>1</td>\n      <td>0</td>\n      <td>1</td>\n      <td>0</td>\n      <td>0</td>\n      <td>0</td>\n      <td>0</td>\n      <td>0</td>\n      <td>normal</td>\n      <td>NaN</td>\n      <td>NaN</td>\n      <td>NaN</td>\n      <td>{2}{G}{G}</td>\n      <td>16413.0</td>\n      <td>19.0</td>\n      <td>NaN</td>\n      <td>27283.0</td>\n      <td>27282.0</td>\n      <td>130483.0</td>\n      <td>Abundance</td>\n      <td>NaN</td>\n      <td>249</td>\n      <td>If you would draw a card, you may instead choo...</td>\n      <td>Enchantment</td>\n      <td>NaN</td>\n      <td>NaN</td>\n      <td>10E,C17,DDR,USG</td>\n      <td>{'cardmarket': 'https://mtgjson.com/links/2b93...</td>\n      <td>rare</td>\n      <td>46184f97-d5c9-4a98-9fd9-e19057ce9b7e</td>\n      <td>4be12219-df08-4a40-b32f-69737db62615</td>\n      <td>eccc9a54-2b56-4a02-9926-258d5b2e25fb</td>\n      <td>10E</td>\n      <td>NaN</td>\n      <td>NaN</td>\n      <td>NaN</td>\n      <td>15023.0</td>\n      <td>If you would draw a card, you may instead choo...</td>\n      <td>NaN</td>\n      <td>Enchantment</td>\n      <td>Enchantment</td>\n      <td>1669af17-d287-5094-b005-4b143441442f</td>\n      <td>NaN</td>\n      <td>NaN</td>\n    </tr>\n    <tr>\n      <th>1</th>\n      <td>1</td>\n      <td>1</td>\n      <td>2</td>\n      <td>Stephen Daniele</td>\n      <td>black</td>\n      <td>U</td>\n      <td>NaN</td>\n      <td>U</td>\n      <td>3.0</td>\n      <td>NaN</td>\n      <td>10548.0</td>\n      <td>NaN</td>\n      <td>They brandish their latest theories as warrior...</td>\n      <td>NaN</td>\n      <td>NaN</td>\n      <td>2003</td>\n      <td>NaN</td>\n      <td>1</td>\n      <td>0</td>\n      <td>1</td>\n      <td>0</td>\n      <td>0</td>\n      <td>0</td>\n      <td>0</td>\n      <td>0</td>\n      <td>1</td>\n      <td>0</td>\n      <td>0</td>\n      <td>1</td>\n      <td>0</td>\n      <td>1</td>\n      <td>0</td>\n      <td>0</td>\n      <td>0</td>\n      <td>0</td>\n      <td>0</td>\n      <td>normal</td>\n      <td>NaN</td>\n      <td>NaN</td>\n      <td>NaN</td>\n      <td>{1}{U}{U}</td>\n      <td>16227.0</td>\n      <td>26.0</td>\n      <td>NaN</td>\n      <td>27275.0</td>\n      <td>27274.0</td>\n      <td>132072.0</td>\n      <td>Academy Researchers</td>\n      <td>NaN</td>\n      <td>63</td>\n      <td>When Academy Researchers comes into play, you ...</td>\n      <td>Creature - Human Wizard</td>\n      <td>NaN</td>\n      <td>2</td>\n      <td>10E,USG</td>\n      <td>{'cardmarket': 'https://mtgjson.com/links/27c7...</td>\n      <td>uncommon</td>\n      <td>b62ca800-ec24-476e-b56f-834eef9622a9</td>\n      <td>cf5efc65-9aa2-466b-bd2b-448ad69ab474</td>\n      <td>df2d2c52-475b-4057-9cf8-7886700f0fae</td>\n      <td>10E</td>\n      <td>NaN</td>\n      <td>Human,Wizard</td>\n      <td>NaN</td>\n      <td>15024.0</td>\n      <td>When Academy Researchers enters the battlefiel...</td>\n      <td>2</td>\n      <td>Creature — Human Wizard</td>\n      <td>Creature</td>\n      <td>047d5499-a21c-5f5c-9679-1599fcaf9815</td>\n      <td>NaN</td>\n      <td>NaN</td>\n    </tr>\n    <tr>\n      <th>2</th>\n      <td>2</td>\n      <td>2</td>\n      <td>3</td>\n      <td>John Avon</td>\n      <td>black</td>\n      <td>U,W</td>\n      <td>NaN</td>\n      <td>NaN</td>\n      <td>0.0</td>\n      <td>NaN</td>\n      <td>570.0</td>\n      <td>NaN</td>\n      <td>NaN</td>\n      <td>NaN</td>\n      <td>NaN</td>\n      <td>2003</td>\n      <td>NaN</td>\n      <td>1</td>\n      <td>0</td>\n      <td>1</td>\n      <td>0</td>\n      <td>0</td>\n      <td>0</td>\n      <td>0</td>\n      <td>0</td>\n      <td>1</td>\n      <td>0</td>\n      <td>0</td>\n      <td>1</td>\n      <td>0</td>\n      <td>1</td>\n      <td>0</td>\n      <td>0</td>\n      <td>0</td>\n      <td>0</td>\n      <td>0</td>\n      <td>normal</td>\n      <td>NaN</td>\n      <td>NaN</td>\n      <td>NaN</td>\n      <td>NaN</td>\n      <td>16511.0</td>\n      <td>42.0</td>\n      <td>NaN</td>\n      <td>27385.0</td>\n      <td>27384.0</td>\n      <td>129458.0</td>\n      <td>Adarkar Wastes</td>\n      <td>NaN</td>\n      <td>347</td>\n      <td>{T}: Add {1} to your mana pool.\\n{T}: Add {W} ...</td>\n      <td>Land</td>\n      <td>NaN</td>\n      <td>NaN</td>\n      <td>10E,5ED,6ED,7ED,9ED,ICE,PTC,WC00</td>\n      <td>{'cardmarket': 'https://mtgjson.com/links/7866...</td>\n      <td>rare</td>\n      <td>f31cf014-7ac9-428b-9ce9-8ba5ebfdd252</td>\n      <td>1b3845b2-2bac-4cfe-a0c5-6e9f4bd1edb8</td>\n      <td>d5ad26cc-2bdb-46b7-b8bf-dd099d5fa09b</td>\n      <td>10E</td>\n      <td>NaN</td>\n      <td>NaN</td>\n      <td>NaN</td>\n      <td>15025.0</td>\n      <td>{T}: Add {C}.\\n{T}: Add {W} or {U}. Adarkar Wa...</td>\n      <td>NaN</td>\n      <td>Land</td>\n      <td>Land</td>\n      <td>ee19938c-4007-58f1-8904-fae28007b422</td>\n      <td>NaN</td>\n      <td>NaN</td>\n    </tr>\n    <tr>\n      <th>3</th>\n      <td>3</td>\n      <td>3</td>\n      <td>4</td>\n      <td>Roger Raupp</td>\n      <td>black</td>\n      <td>B</td>\n      <td>NaN</td>\n      <td>B</td>\n      <td>3.0</td>\n      <td>NaN</td>\n      <td>15758.0</td>\n      <td>NaN</td>\n      <td>One rarely notices a heartbeat, save when it i...</td>\n      <td>NaN</td>\n      <td>NaN</td>\n      <td>2003</td>\n      <td>NaN</td>\n      <td>1</td>\n      <td>0</td>\n      <td>1</td>\n      <td>0</td>\n      <td>0</td>\n      <td>0</td>\n      <td>0</td>\n      <td>0</td>\n      <td>1</td>\n      <td>0</td>\n      <td>0</td>\n      <td>1</td>\n      <td>0</td>\n      <td>1</td>\n      <td>0</td>\n      <td>0</td>\n      <td>0</td>\n      <td>0</td>\n      <td>0</td>\n      <td>normal</td>\n      <td>NaN</td>\n      <td>NaN</td>\n      <td>NaN</td>\n      <td>{2}{B}</td>\n      <td>16289.0</td>\n      <td>66.0</td>\n      <td>NaN</td>\n      <td>27483.0</td>\n      <td>27482.0</td>\n      <td>135206.0</td>\n      <td>Afflict</td>\n      <td>NaN</td>\n      <td>125</td>\n      <td>Target creature gets -1/-1 until end of turn.\\...</td>\n      <td>Instant</td>\n      <td>NaN</td>\n      <td>NaN</td>\n      <td>10E,ODY</td>\n      <td>{'cardmarket': 'https://mtgjson.com/links/02e8...</td>\n      <td>common</td>\n      <td>20f18447-2853-469b-b3b3-20d6bcafa6e7</td>\n      <td>83259a38-bbad-4dd1-bcd5-d1b1d96b0380</td>\n      <td>471f6ad3-cf01-42dd-a519-ea8e13039fea</td>\n      <td>10E</td>\n      <td>NaN</td>\n      <td>NaN</td>\n      <td>NaN</td>\n      <td>15026.0</td>\n      <td>Target creature gets -1/-1 until end of turn.\\...</td>\n      <td>NaN</td>\n      <td>Instant</td>\n      <td>Instant</td>\n      <td>8774e18f-3752-5c06-af94-5da3960da9ed</td>\n      <td>NaN</td>\n      <td>NaN</td>\n    </tr>\n    <tr>\n      <th>4</th>\n      <td>4</td>\n      <td>4</td>\n      <td>5</td>\n      <td>Christopher Moeller</td>\n      <td>black</td>\n      <td>G</td>\n      <td>NaN</td>\n      <td>G</td>\n      <td>2.0</td>\n      <td>NaN</td>\n      <td>9886.0</td>\n      <td>NaN</td>\n      <td>The power of the wild, concentrated in a singl...</td>\n      <td>NaN</td>\n      <td>NaN</td>\n      <td>2003</td>\n      <td>NaN</td>\n      <td>1</td>\n      <td>0</td>\n      <td>1</td>\n      <td>0</td>\n      <td>0</td>\n      <td>0</td>\n      <td>0</td>\n      <td>0</td>\n      <td>1</td>\n      <td>0</td>\n      <td>0</td>\n      <td>1</td>\n      <td>0</td>\n      <td>1</td>\n      <td>0</td>\n      <td>0</td>\n      <td>0</td>\n      <td>0</td>\n      <td>0</td>\n      <td>normal</td>\n      <td>NaN</td>\n      <td>NaN</td>\n      <td>NaN</td>\n      <td>{1}{G}</td>\n      <td>16414.0</td>\n      <td>76.0</td>\n      <td>NaN</td>\n      <td>27361.0</td>\n      <td>27360.0</td>\n      <td>130525.0</td>\n      <td>Aggressive Urge</td>\n      <td>NaN</td>\n      <td>250</td>\n      <td>Target creature gets +1/+1 until end of turn.\\...</td>\n      <td>Instant</td>\n      <td>NaN</td>\n      <td>NaN</td>\n      <td>10E,INV,MB1,RIX</td>\n      <td>{'cardmarket': 'https://mtgjson.com/links/2ec1...</td>\n      <td>common</td>\n      <td>bf92ae01-9d1e-4b41-b068-096648daadf6</td>\n      <td>f4a2d3c4-15b8-4808-a5c5-56aaefc0dfcc</td>\n      <td>43f5a93b-0f8d-48d2-ab9d-275d44cf88b5</td>\n      <td>10E</td>\n      <td>NaN</td>\n      <td>NaN</td>\n      <td>NaN</td>\n      <td>15027.0</td>\n      <td>Target creature gets +1/+1 until end of turn.\\...</td>\n      <td>NaN</td>\n      <td>Instant</td>\n      <td>Instant</td>\n      <td>4e875bca-0c52-5d60-889d-1db67e261737</td>\n      <td>NaN</td>\n      <td>NaN</td>\n    </tr>\n    <tr>\n      <th>5</th>\n      <td>5</td>\n      <td>5</td>\n      <td>6</td>\n      <td>Adam Rex</td>\n      <td>black</td>\n      <td>B</td>\n      <td>NaN</td>\n      <td>B</td>\n      <td>4.0</td>\n      <td>NaN</td>\n      <td>16665.0</td>\n      <td>NaN</td>\n      <td>In the aftermath of war, when the slaying is l...</td>\n      <td>NaN</td>\n      <td>NaN</td>\n      <td>2003</td>\n      <td>NaN</td>\n      <td>1</td>\n      <td>0</td>\n      <td>1</td>\n      <td>0</td>\n      <td>0</td>\n      <td>0</td>\n      <td>0</td>\n      <td>0</td>\n      <td>1</td>\n      <td>0</td>\n      <td>0</td>\n      <td>1</td>\n      <td>0</td>\n      <td>1</td>\n      <td>0</td>\n      <td>0</td>\n      <td>0</td>\n      <td>0</td>\n      <td>0</td>\n      <td>normal</td>\n      <td>NaN</td>\n      <td>NaN</td>\n      <td>NaN</td>\n      <td>{2}{B}{B}</td>\n      <td>16290.0</td>\n      <td>79.0</td>\n      <td>NaN</td>\n      <td>27387.0</td>\n      <td>27386.0</td>\n      <td>135228.0</td>\n      <td>Agonizing Memories</td>\n      <td>NaN</td>\n      <td>126</td>\n      <td>Look at target player's hand and choose two ca...</td>\n      <td>Sorcery</td>\n      <td>NaN</td>\n      <td>NaN</td>\n      <td>10E,6ED,7ED,WTH</td>\n      <td>{'cardmarket': 'https://mtgjson.com/links/551b...</td>\n      <td>uncommon</td>\n      <td>28bac7a8-d3bb-4032-b30b-db7328e4d2fc</td>\n      <td>8c77f7f7-4605-4315-9f9f-9690774d5945</td>\n      <td>2ac9d397-10ca-43ce-bff9-45d631553486</td>\n      <td>10E</td>\n      <td>NaN</td>\n      <td>NaN</td>\n      <td>NaN</td>\n      <td>15028.0</td>\n      <td>Look at target player's hand and choose two ca...</td>\n      <td>NaN</td>\n      <td>Sorcery</td>\n      <td>Sorcery</td>\n      <td>13fbd62d-8c76-52fa-a91d-a20cc34747ab</td>\n      <td>NaN</td>\n      <td>NaN</td>\n    </tr>\n    <tr>\n      <th>6</th>\n      <td>6</td>\n      <td>6</td>\n      <td>7</td>\n      <td>Kev Walker</td>\n      <td>black</td>\n      <td>U</td>\n      <td>NaN</td>\n      <td>U</td>\n      <td>5.0</td>\n      <td>NaN</td>\n      <td>10937.0</td>\n      <td>NaN</td>\n      <td>\"The East Wind, an interloper in the dominions...</td>\n      <td>NaN</td>\n      <td>NaN</td>\n      <td>2003</td>\n      <td>NaN</td>\n      <td>0</td>\n      <td>0</td>\n      <td>1</td>\n      <td>0</td>\n      <td>0</td>\n      <td>0</td>\n      <td>0</td>\n      <td>0</td>\n      <td>1</td>\n      <td>0</td>\n      <td>0</td>\n      <td>1</td>\n      <td>0</td>\n      <td>1</td>\n      <td>0</td>\n      <td>0</td>\n      <td>0</td>\n      <td>0</td>\n      <td>0</td>\n      <td>normal</td>\n      <td>NaN</td>\n      <td>NaN</td>\n      <td>NaN</td>\n      <td>{3}{U}{U}</td>\n      <td>16228.0</td>\n      <td>81.0</td>\n      <td>NaN</td>\n      <td>27001.0</td>\n      <td>27000.0</td>\n      <td>129459.0</td>\n      <td>Air Elemental</td>\n      <td>NaN</td>\n      <td>64</td>\n      <td>Flying</td>\n      <td>Creature - Elemental</td>\n      <td>NaN</td>\n      <td>4</td>\n      <td>10E,2ED,3ED,4BB,4ED,5ED,6ED,7ED,8ED,9ED,BRB,BT...</td>\n      <td>{'cardmarket': 'https://mtgjson.com/links/9787...</td>\n      <td>uncommon</td>\n      <td>be2326dd-78c9-46bb-a459-306602939a41</td>\n      <td>75263648-0dd8-4b7f-a508-317e7db284ce</td>\n      <td>7744bae4-a8b7-44a5-9b4c-0048ad4cc448</td>\n      <td>10E</td>\n      <td>NaN</td>\n      <td>Elemental</td>\n      <td>NaN</td>\n      <td>15029.0</td>\n      <td>Flying</td>\n      <td>4</td>\n      <td>Creature — Elemental</td>\n      <td>Creature</td>\n      <td>2854f284-974b-5842-8748-7c300e825b6c</td>\n      <td>9d9ce25a-f48a-5b21-a672-8a08d42350e5</td>\n      <td>NaN</td>\n    </tr>\n    <tr>\n      <th>7</th>\n      <td>8</td>\n      <td>8</td>\n      <td>9</td>\n      <td>Jim Murray</td>\n      <td>black</td>\n      <td>U</td>\n      <td>NaN</td>\n      <td>U</td>\n      <td>3.0</td>\n      <td>NaN</td>\n      <td>8117.0</td>\n      <td>NaN</td>\n      <td>\"Life is a game. The only thing that matters i...</td>\n      <td>NaN</td>\n      <td>NaN</td>\n      <td>2003</td>\n      <td>NaN</td>\n      <td>1</td>\n      <td>0</td>\n      <td>1</td>\n      <td>0</td>\n      <td>0</td>\n      <td>0</td>\n      <td>0</td>\n      <td>0</td>\n      <td>1</td>\n      <td>0</td>\n      <td>0</td>\n      <td>1</td>\n      <td>0</td>\n      <td>1</td>\n      <td>0</td>\n      <td>0</td>\n      <td>0</td>\n      <td>0</td>\n      <td>0</td>\n      <td>normal</td>\n      <td>{'brawl': False, 'commander': True, 'oathbreak...</td>\n      <td>NaN</td>\n      <td>NaN</td>\n      <td>{1}{U}{U}</td>\n      <td>16229.0</td>\n      <td>132.0</td>\n      <td>NaN</td>\n      <td>27157.0</td>\n      <td>27156.0</td>\n      <td>129913.0</td>\n      <td>Ambassador Laquatus</td>\n      <td>NaN</td>\n      <td>65</td>\n      <td>{3}: Target player puts the top three cards of...</td>\n      <td>Legendary Creature - Merfolk Wizard</td>\n      <td>NaN</td>\n      <td>1</td>\n      <td>10E,TOR</td>\n      <td>{'cardmarket': 'https://mtgjson.com/links/f49e...</td>\n      <td>rare</td>\n      <td>b261067f-b5de-41cc-ba9e-6ef4c061e170</td>\n      <td>11ce5af9-1f4a-405f-9f80-27c5271f0c1c</td>\n      <td>2df8f253-1d3c-4b1f-8549-93fb90623474</td>\n      <td>10E</td>\n      <td>NaN</td>\n      <td>Merfolk,Wizard</td>\n      <td>Legendary</td>\n      <td>15030.0</td>\n      <td>{3}: Target player puts the top three cards of...</td>\n      <td>3</td>\n      <td>Legendary Creature — Merfolk Wizard</td>\n      <td>Creature</td>\n      <td>f9db3498-1b48-5877-8cef-d07c65c6cc20</td>\n      <td>NaN</td>\n      <td>NaN</td>\n    </tr>\n    <tr>\n      <th>8</th>\n      <td>9</td>\n      <td>9</td>\n      <td>10</td>\n      <td>Greg Staples</td>\n      <td>black</td>\n      <td>R</td>\n      <td>NaN</td>\n      <td>R</td>\n      <td>4.0</td>\n      <td>NaN</td>\n      <td>14109.0</td>\n      <td>NaN</td>\n      <td>\"They who challenge a minotaur enjoy the taste...</td>\n      <td>NaN</td>\n      <td>NaN</td>\n      <td>2003</td>\n      <td>NaN</td>\n      <td>0</td>\n      <td>0</td>\n      <td>1</td>\n      <td>0</td>\n      <td>0</td>\n      <td>0</td>\n      <td>0</td>\n      <td>0</td>\n      <td>1</td>\n      <td>0</td>\n      <td>0</td>\n      <td>1</td>\n      <td>0</td>\n      <td>1</td>\n      <td>0</td>\n      <td>0</td>\n      <td>0</td>\n      <td>0</td>\n      <td>0</td>\n      <td>normal</td>\n      <td>NaN</td>\n      <td>NaN</td>\n      <td>NaN</td>\n      <td>{3}{R}</td>\n      <td>16351.0</td>\n      <td>149.0</td>\n      <td>NaN</td>\n      <td>26987.0</td>\n      <td>26986.0</td>\n      <td>134753.0</td>\n      <td>Anaba Bodyguard</td>\n      <td>NaN</td>\n      <td>187</td>\n      <td>First strike</td>\n      <td>Creature - Minotaur</td>\n      <td>NaN</td>\n      <td>2</td>\n      <td>10E,6ED,HML</td>\n      <td>{'cardmarket': 'https://mtgjson.com/links/6013...</td>\n      <td>common</td>\n      <td>6fdd01bd-ab41-4005-8807-46db0cfc4da4</td>\n      <td>09055672-89f2-400f-95ab-056e1acace04</td>\n      <td>8c64db66-879e-46ad-9d11-8a95b6cf5d19</td>\n      <td>10E</td>\n      <td>NaN</td>\n      <td>Minotaur</td>\n      <td>NaN</td>\n      <td>15031.0</td>\n      <td>First strike (This creature deals combat damag...</td>\n      <td>3</td>\n      <td>Creature — Minotaur</td>\n      <td>Creature</td>\n      <td>fe4aa077-872f-58b2-bc37-80164f869895</td>\n      <td>067159f1-c2be-5ed1-916b-e7645682c334</td>\n      <td>NaN</td>\n    </tr>\n    <tr>\n      <th>9</th>\n      <td>11</td>\n      <td>11</td>\n      <td>12</td>\n      <td>Pete Venters</td>\n      <td>black</td>\n      <td>W</td>\n      <td>NaN</td>\n      <td>W</td>\n      <td>7.0</td>\n      <td>NaN</td>\n      <td>15291.0</td>\n      <td>NaN</td>\n      <td>NaN</td>\n      <td>NaN</td>\n      <td>NaN</td>\n      <td>2003</td>\n      <td>NaN</td>\n      <td>0</td>\n      <td>0</td>\n      <td>1</td>\n      <td>0</td>\n      <td>0</td>\n      <td>0</td>\n      <td>0</td>\n      <td>0</td>\n      <td>1</td>\n      <td>0</td>\n      <td>0</td>\n      <td>1</td>\n      <td>0</td>\n      <td>1</td>\n      <td>0</td>\n      <td>0</td>\n      <td>0</td>\n      <td>0</td>\n      <td>0</td>\n      <td>normal</td>\n      <td>NaN</td>\n      <td>NaN</td>\n      <td>NaN</td>\n      <td>{5}{W}{W}</td>\n      <td>16165.0</td>\n      <td>156.0</td>\n      <td>NaN</td>\n      <td>27501.0</td>\n      <td>27500.0</td>\n      <td>130550.0</td>\n      <td>Ancestor's Chosen</td>\n      <td>NaN</td>\n      <td>1</td>\n      <td>First strike\\nWhen Ancestor's Chosen comes int...</td>\n      <td>Creature - Human Cleric</td>\n      <td>NaN</td>\n      <td>4</td>\n      <td>10E,JUD,UMA</td>\n      <td>{'cardmarket': 'https://mtgjson.com/links/ae34...</td>\n      <td>uncommon</td>\n      <td>7a5cd03c-4227-4551-aa4b-7d119f0468b5</td>\n      <td>be2f7173-c8b7-4172-a388-9b2c6b3c16e5</td>\n      <td>fc2ccab7-cab1-4463-b73d-898070136d74</td>\n      <td>10E</td>\n      <td>NaN</td>\n      <td>Human,Cleric</td>\n      <td>NaN</td>\n      <td>15032.0</td>\n      <td>First strike (This creature deals combat damag...</td>\n      <td>4</td>\n      <td>Creature — Human Cleric</td>\n      <td>Creature</td>\n      <td>ad41be73-582f-58ed-abd4-a88c1f616ac3</td>\n      <td>fcd5d3ab-d58e-5cea-861a-cb377f37bf83</td>\n      <td>NaN</td>\n    </tr>\n  </tbody>\n</table>\n</div>",
      "text/plain": "   Unnamed: 0  Unnamed: 0.1  id               artist borderColor  \\\n0           0             0   1         Rebecca Guay       black   \n1           1             1   2      Stephen Daniele       black   \n2           2             2   3            John Avon       black   \n3           3             3   4          Roger Raupp       black   \n4           4             4   5  Christopher Moeller       black   \n5           5             5   6             Adam Rex       black   \n6           6             6   7           Kev Walker       black   \n7           8             8   9           Jim Murray       black   \n8           9             9  10         Greg Staples       black   \n9          11            11  12         Pete Venters       black   \n\n  colorIdentity colorIndicator colors  convertedManaCost duelDeck  edhrecRank  \\\n0             G            NaN      G                4.0      NaN       980.0   \n1             U            NaN      U                3.0      NaN     10548.0   \n2           U,W            NaN    NaN                0.0      NaN       570.0   \n3             B            NaN      B                3.0      NaN     15758.0   \n4             G            NaN      G                2.0      NaN      9886.0   \n5             B            NaN      B                4.0      NaN     16665.0   \n6             U            NaN      U                5.0      NaN     10937.0   \n7             U            NaN      U                3.0      NaN      8117.0   \n8             R            NaN      R                4.0      NaN     14109.0   \n9             W            NaN      W                7.0      NaN     15291.0   \n\n   faceConvertedManaCost                                         flavorText  \\\n0                    NaN                                                NaN   \n1                    NaN  They brandish their latest theories as warrior...   \n2                    NaN                                                NaN   \n3                    NaN  One rarely notices a heartbeat, save when it i...   \n4                    NaN  The power of the wild, concentrated in a singl...   \n5                    NaN  In the aftermath of war, when the slaying is l...   \n6                    NaN  \"The East Wind, an interloper in the dominions...   \n7                    NaN  \"Life is a game. The only thing that matters i...   \n8                    NaN  \"They who challenge a minotaur enjoy the taste...   \n9                    NaN                                                NaN   \n\n  frameEffect frameEffects frameVersion  hand  hasFoil  hasNoDeckLimit  \\\n0         NaN          NaN         2003   NaN        1               0   \n1         NaN          NaN         2003   NaN        1               0   \n2         NaN          NaN         2003   NaN        1               0   \n3         NaN          NaN         2003   NaN        1               0   \n4         NaN          NaN         2003   NaN        1               0   \n5         NaN          NaN         2003   NaN        1               0   \n6         NaN          NaN         2003   NaN        0               0   \n7         NaN          NaN         2003   NaN        1               0   \n8         NaN          NaN         2003   NaN        0               0   \n9         NaN          NaN         2003   NaN        0               0   \n\n   hasNonFoil  isAlternative  isArena  isBuyABox  isDateStamped  isFullArt  \\\n0           1              0        0          0              0          0   \n1           1              0        0          0              0          0   \n2           1              0        0          0              0          0   \n3           1              0        0          0              0          0   \n4           1              0        0          0              0          0   \n5           1              0        0          0              0          0   \n6           1              0        0          0              0          0   \n7           1              0        0          0              0          0   \n8           1              0        0          0              0          0   \n9           1              0        0          0              0          0   \n\n   isMtgo  isOnlineOnly  isOversized  isPaper  isPromo  isReprint  isReserved  \\\n0       1             0            0        1        0          1           0   \n1       1             0            0        1        0          1           0   \n2       1             0            0        1        0          1           0   \n3       1             0            0        1        0          1           0   \n4       1             0            0        1        0          1           0   \n5       1             0            0        1        0          1           0   \n6       1             0            0        1        0          1           0   \n7       1             0            0        1        0          1           0   \n8       1             0            0        1        0          1           0   \n9       1             0            0        1        0          1           0   \n\n   isStarter  isStorySpotlight  isTextless  isTimeshifted  layout  \\\n0          0                 0           0              0  normal   \n1          0                 0           0              0  normal   \n2          0                 0           0              0  normal   \n3          0                 0           0              0  normal   \n4          0                 0           0              0  normal   \n5          0                 0           0              0  normal   \n6          0                 0           0              0  normal   \n7          0                 0           0              0  normal   \n8          0                 0           0              0  normal   \n9          0                 0           0              0  normal   \n\n                                    leadershipSkills  life loyalty   manaCost  \\\n0                                                NaN   NaN     NaN  {2}{G}{G}   \n1                                                NaN   NaN     NaN  {1}{U}{U}   \n2                                                NaN   NaN     NaN        NaN   \n3                                                NaN   NaN     NaN     {2}{B}   \n4                                                NaN   NaN     NaN     {1}{G}   \n5                                                NaN   NaN     NaN  {2}{B}{B}   \n6                                                NaN   NaN     NaN  {3}{U}{U}   \n7  {'brawl': False, 'commander': True, 'oathbreak...   NaN     NaN  {1}{U}{U}   \n8                                                NaN   NaN     NaN     {3}{R}   \n9                                                NaN   NaN     NaN  {5}{W}{W}   \n\n     mcmId  mcmMetaId  mtgArenaId  mtgoFoilId   mtgoId  multiverseId  \\\n0  16413.0       19.0         NaN     27283.0  27282.0      130483.0   \n1  16227.0       26.0         NaN     27275.0  27274.0      132072.0   \n2  16511.0       42.0         NaN     27385.0  27384.0      129458.0   \n3  16289.0       66.0         NaN     27483.0  27482.0      135206.0   \n4  16414.0       76.0         NaN     27361.0  27360.0      130525.0   \n5  16290.0       79.0         NaN     27387.0  27386.0      135228.0   \n6  16228.0       81.0         NaN     27001.0  27000.0      129459.0   \n7  16229.0      132.0         NaN     27157.0  27156.0      129913.0   \n8  16351.0      149.0         NaN     26987.0  26986.0      134753.0   \n9  16165.0      156.0         NaN     27501.0  27500.0      130550.0   \n\n                  name names number  \\\n0            Abundance   NaN    249   \n1  Academy Researchers   NaN     63   \n2       Adarkar Wastes   NaN    347   \n3              Afflict   NaN    125   \n4      Aggressive Urge   NaN    250   \n5   Agonizing Memories   NaN    126   \n6        Air Elemental   NaN     64   \n7  Ambassador Laquatus   NaN     65   \n8      Anaba Bodyguard   NaN    187   \n9    Ancestor's Chosen   NaN      1   \n\n                                        originalText  \\\n0  If you would draw a card, you may instead choo...   \n1  When Academy Researchers comes into play, you ...   \n2  {T}: Add {1} to your mana pool.\\n{T}: Add {W} ...   \n3  Target creature gets -1/-1 until end of turn.\\...   \n4  Target creature gets +1/+1 until end of turn.\\...   \n5  Look at target player's hand and choose two ca...   \n6                                             Flying   \n7  {3}: Target player puts the top three cards of...   \n8                                       First strike   \n9  First strike\\nWhen Ancestor's Chosen comes int...   \n\n                          originalType otherFaceIds power  \\\n0                          Enchantment          NaN   NaN   \n1              Creature - Human Wizard          NaN     2   \n2                                 Land          NaN   NaN   \n3                              Instant          NaN   NaN   \n4                              Instant          NaN   NaN   \n5                              Sorcery          NaN   NaN   \n6                 Creature - Elemental          NaN     4   \n7  Legendary Creature - Merfolk Wizard          NaN     1   \n8                  Creature - Minotaur          NaN     2   \n9              Creature - Human Cleric          NaN     4   \n\n                                           printings  \\\n0                                    10E,C17,DDR,USG   \n1                                            10E,USG   \n2                   10E,5ED,6ED,7ED,9ED,ICE,PTC,WC00   \n3                                            10E,ODY   \n4                                    10E,INV,MB1,RIX   \n5                                    10E,6ED,7ED,WTH   \n6  10E,2ED,3ED,4BB,4ED,5ED,6ED,7ED,8ED,9ED,BRB,BT...   \n7                                            10E,TOR   \n8                                        10E,6ED,HML   \n9                                        10E,JUD,UMA   \n\n                                        purchaseUrls    rarity  \\\n0  {'cardmarket': 'https://mtgjson.com/links/2b93...      rare   \n1  {'cardmarket': 'https://mtgjson.com/links/27c7...  uncommon   \n2  {'cardmarket': 'https://mtgjson.com/links/7866...      rare   \n3  {'cardmarket': 'https://mtgjson.com/links/02e8...    common   \n4  {'cardmarket': 'https://mtgjson.com/links/2ec1...    common   \n5  {'cardmarket': 'https://mtgjson.com/links/551b...  uncommon   \n6  {'cardmarket': 'https://mtgjson.com/links/9787...  uncommon   \n7  {'cardmarket': 'https://mtgjson.com/links/f49e...      rare   \n8  {'cardmarket': 'https://mtgjson.com/links/6013...    common   \n9  {'cardmarket': 'https://mtgjson.com/links/ae34...  uncommon   \n\n                             scryfallId                scryfallIllustrationId  \\\n0  46184f97-d5c9-4a98-9fd9-e19057ce9b7e  4be12219-df08-4a40-b32f-69737db62615   \n1  b62ca800-ec24-476e-b56f-834eef9622a9  cf5efc65-9aa2-466b-bd2b-448ad69ab474   \n2  f31cf014-7ac9-428b-9ce9-8ba5ebfdd252  1b3845b2-2bac-4cfe-a0c5-6e9f4bd1edb8   \n3  20f18447-2853-469b-b3b3-20d6bcafa6e7  83259a38-bbad-4dd1-bcd5-d1b1d96b0380   \n4  bf92ae01-9d1e-4b41-b068-096648daadf6  f4a2d3c4-15b8-4808-a5c5-56aaefc0dfcc   \n5  28bac7a8-d3bb-4032-b30b-db7328e4d2fc  8c77f7f7-4605-4315-9f9f-9690774d5945   \n6  be2326dd-78c9-46bb-a459-306602939a41  75263648-0dd8-4b7f-a508-317e7db284ce   \n7  b261067f-b5de-41cc-ba9e-6ef4c061e170  11ce5af9-1f4a-405f-9f80-27c5271f0c1c   \n8  6fdd01bd-ab41-4005-8807-46db0cfc4da4  09055672-89f2-400f-95ab-056e1acace04   \n9  7a5cd03c-4227-4551-aa4b-7d119f0468b5  be2f7173-c8b7-4172-a388-9b2c6b3c16e5   \n\n                       scryfallOracleId setCode side        subtypes  \\\n0  eccc9a54-2b56-4a02-9926-258d5b2e25fb     10E  NaN             NaN   \n1  df2d2c52-475b-4057-9cf8-7886700f0fae     10E  NaN    Human,Wizard   \n2  d5ad26cc-2bdb-46b7-b8bf-dd099d5fa09b     10E  NaN             NaN   \n3  471f6ad3-cf01-42dd-a519-ea8e13039fea     10E  NaN             NaN   \n4  43f5a93b-0f8d-48d2-ab9d-275d44cf88b5     10E  NaN             NaN   \n5  2ac9d397-10ca-43ce-bff9-45d631553486     10E  NaN             NaN   \n6  7744bae4-a8b7-44a5-9b4c-0048ad4cc448     10E  NaN       Elemental   \n7  2df8f253-1d3c-4b1f-8549-93fb90623474     10E  NaN  Merfolk,Wizard   \n8  8c64db66-879e-46ad-9d11-8a95b6cf5d19     10E  NaN        Minotaur   \n9  fc2ccab7-cab1-4463-b73d-898070136d74     10E  NaN    Human,Cleric   \n\n  supertypes  tcgplayerProductId  \\\n0        NaN             15023.0   \n1        NaN             15024.0   \n2        NaN             15025.0   \n3        NaN             15026.0   \n4        NaN             15027.0   \n5        NaN             15028.0   \n6        NaN             15029.0   \n7  Legendary             15030.0   \n8        NaN             15031.0   \n9        NaN             15032.0   \n\n                                                text toughness  \\\n0  If you would draw a card, you may instead choo...       NaN   \n1  When Academy Researchers enters the battlefiel...         2   \n2  {T}: Add {C}.\\n{T}: Add {W} or {U}. Adarkar Wa...       NaN   \n3  Target creature gets -1/-1 until end of turn.\\...       NaN   \n4  Target creature gets +1/+1 until end of turn.\\...       NaN   \n5  Look at target player's hand and choose two ca...       NaN   \n6                                             Flying         4   \n7  {3}: Target player puts the top three cards of...         3   \n8  First strike (This creature deals combat damag...         3   \n9  First strike (This creature deals combat damag...         4   \n\n                                  type        types  \\\n0                          Enchantment  Enchantment   \n1              Creature — Human Wizard     Creature   \n2                                 Land         Land   \n3                              Instant      Instant   \n4                              Instant      Instant   \n5                              Sorcery      Sorcery   \n6                 Creature — Elemental     Creature   \n7  Legendary Creature — Merfolk Wizard     Creature   \n8                  Creature — Minotaur     Creature   \n9              Creature — Human Cleric     Creature   \n\n                                   uuid                            variations  \\\n0  1669af17-d287-5094-b005-4b143441442f                                   NaN   \n1  047d5499-a21c-5f5c-9679-1599fcaf9815                                   NaN   \n2  ee19938c-4007-58f1-8904-fae28007b422                                   NaN   \n3  8774e18f-3752-5c06-af94-5da3960da9ed                                   NaN   \n4  4e875bca-0c52-5d60-889d-1db67e261737                                   NaN   \n5  13fbd62d-8c76-52fa-a91d-a20cc34747ab                                   NaN   \n6  2854f284-974b-5842-8748-7c300e825b6c  9d9ce25a-f48a-5b21-a672-8a08d42350e5   \n7  f9db3498-1b48-5877-8cef-d07c65c6cc20                                   NaN   \n8  fe4aa077-872f-58b2-bc37-80164f869895  067159f1-c2be-5ed1-916b-e7645682c334   \n9  ad41be73-582f-58ed-abd4-a88c1f616ac3  fcd5d3ab-d58e-5cea-861a-cb377f37bf83   \n\n  watermark  \n0       NaN  \n1       NaN  \n2       NaN  \n3       NaN  \n4       NaN  \n5       NaN  \n6       NaN  \n7       NaN  \n8       NaN  \n9       NaN  "
     },
     "execution_count": 5,
     "metadata": {},
     "output_type": "execute_result"
    }
   ],
   "source": [
    "mtg_modern.head(10)"
   ]
  },
  {
   "cell_type": "code",
   "execution_count": 6,
   "metadata": {},
   "outputs": [
    {
     "data": {
      "text/html": "<div>\n<style scoped>\n    .dataframe tbody tr th:only-of-type {\n        vertical-align: middle;\n    }\n\n    .dataframe tbody tr th {\n        vertical-align: top;\n    }\n\n    .dataframe thead th {\n        text-align: right;\n    }\n</style>\n<table border=\"1\" class=\"dataframe\">\n  <thead>\n    <tr style=\"text-align: right;\">\n      <th></th>\n      <th>name</th>\n      <th>names</th>\n      <th>power</th>\n      <th>toughness</th>\n      <th>text</th>\n      <th>type</th>\n      <th>types</th>\n      <th>subtypes</th>\n      <th>supertypes</th>\n      <th>rarity</th>\n      <th>colorIdentity</th>\n      <th>colors</th>\n      <th>convertedManaCost</th>\n      <th>manaCost</th>\n      <th>faceConvertedManaCost</th>\n      <th>side</th>\n    </tr>\n  </thead>\n  <tbody>\n    <tr>\n      <th>0</th>\n      <td>Abundance</td>\n      <td>NaN</td>\n      <td>NaN</td>\n      <td>NaN</td>\n      <td>If you would draw a card, you may instead choo...</td>\n      <td>Enchantment</td>\n      <td>Enchantment</td>\n      <td>NaN</td>\n      <td>NaN</td>\n      <td>rare</td>\n      <td>G</td>\n      <td>G</td>\n      <td>4.0</td>\n      <td>{2}{G}{G}</td>\n      <td>NaN</td>\n      <td>NaN</td>\n    </tr>\n    <tr>\n      <th>1</th>\n      <td>Academy Researchers</td>\n      <td>NaN</td>\n      <td>2</td>\n      <td>2</td>\n      <td>When Academy Researchers enters the battlefiel...</td>\n      <td>Creature — Human Wizard</td>\n      <td>Creature</td>\n      <td>Human,Wizard</td>\n      <td>NaN</td>\n      <td>uncommon</td>\n      <td>U</td>\n      <td>U</td>\n      <td>3.0</td>\n      <td>{1}{U}{U}</td>\n      <td>NaN</td>\n      <td>NaN</td>\n    </tr>\n    <tr>\n      <th>2</th>\n      <td>Adarkar Wastes</td>\n      <td>NaN</td>\n      <td>NaN</td>\n      <td>NaN</td>\n      <td>{T}: Add {C}.\\n{T}: Add {W} or {U}. Adarkar Wa...</td>\n      <td>Land</td>\n      <td>Land</td>\n      <td>NaN</td>\n      <td>NaN</td>\n      <td>rare</td>\n      <td>U,W</td>\n      <td>NaN</td>\n      <td>0.0</td>\n      <td>NaN</td>\n      <td>NaN</td>\n      <td>NaN</td>\n    </tr>\n  </tbody>\n</table>\n</div>",
      "text/plain": "                  name names power toughness  \\\n0            Abundance   NaN   NaN       NaN   \n1  Academy Researchers   NaN     2         2   \n2       Adarkar Wastes   NaN   NaN       NaN   \n\n                                                text                     type  \\\n0  If you would draw a card, you may instead choo...              Enchantment   \n1  When Academy Researchers enters the battlefiel...  Creature — Human Wizard   \n2  {T}: Add {C}.\\n{T}: Add {W} or {U}. Adarkar Wa...                     Land   \n\n         types      subtypes supertypes    rarity colorIdentity colors  \\\n0  Enchantment           NaN        NaN      rare             G      G   \n1     Creature  Human,Wizard        NaN  uncommon             U      U   \n2         Land           NaN        NaN      rare           U,W    NaN   \n\n   convertedManaCost   manaCost  faceConvertedManaCost side  \n0                4.0  {2}{G}{G}                    NaN  NaN  \n1                3.0  {1}{U}{U}                    NaN  NaN  \n2                0.0        NaN                    NaN  NaN  "
     },
     "execution_count": 6,
     "metadata": {},
     "output_type": "execute_result"
    }
   ],
   "source": [
    "# pulls only usable data for clustering.\n",
    "mtg_whole_2 = mtg_modern[['name', 'names', 'power', 'toughness', 'text', 'type', 'types', 'subtypes', 'supertypes', 'rarity', 'colorIdentity', 'colors', 'convertedManaCost', 'manaCost', 'faceConvertedManaCost',  'side', ]] # filters that would matter.\n",
    "#'id', 'borderColor', 'enhrecRank', 'tcgplayerProductId', 'uuid', 'watermark', 'variations', 'originalText', 'originalType', 'scryfallIllustrationId', 'scryfallOracleId'])\n",
    "mtg_whole_2.head(3)"
   ]
  },
  {
   "cell_type": "code",
   "execution_count": 7,
   "metadata": {},
   "outputs": [
    {
     "name": "stderr",
     "output_type": "stream",
     "text": "/home/ed/.local/lib/python3.6/site-packages/ipykernel_launcher.py:5: SettingWithCopyWarning: \nA value is trying to be set on a copy of a slice from a DataFrame.\nTry using .loc[row_indexer,col_indexer] = value instead\n\nSee the caveats in the documentation: https://pandas.pydata.org/pandas-docs/stable/user_guide/indexing.html#returning-a-view-versus-a-copy\n  \"\"\"\n/home/ed/.local/lib/python3.6/site-packages/ipykernel_launcher.py:7: SettingWithCopyWarning: \nA value is trying to be set on a copy of a slice from a DataFrame.\nTry using .loc[row_indexer,col_indexer] = value instead\n\nSee the caveats in the documentation: https://pandas.pydata.org/pandas-docs/stable/user_guide/indexing.html#returning-a-view-versus-a-copy\n  import sys\n/home/ed/.local/lib/python3.6/site-packages/ipykernel_launcher.py:11: SettingWithCopyWarning: \nA value is trying to be set on a copy of a slice from a DataFrame.\nTry using .loc[row_indexer,col_indexer] = value instead\n\nSee the caveats in the documentation: https://pandas.pydata.org/pandas-docs/stable/user_guide/indexing.html#returning-a-view-versus-a-copy\n  # This is added back by InteractiveShellApp.init_path()\n/home/ed/.local/lib/python3.6/site-packages/ipykernel_launcher.py:12: SettingWithCopyWarning: \nA value is trying to be set on a copy of a slice from a DataFrame.\nTry using .loc[row_indexer,col_indexer] = value instead\n\nSee the caveats in the documentation: https://pandas.pydata.org/pandas-docs/stable/user_guide/indexing.html#returning-a-view-versus-a-copy\n  if sys.path[0] == '':\n/home/ed/.local/lib/python3.6/site-packages/pandas/core/frame.py:3997: SettingWithCopyWarning: \nA value is trying to be set on a copy of a slice from a DataFrame\n\nSee the caveats in the documentation: https://pandas.pydata.org/pandas-docs/stable/user_guide/indexing.html#returning-a-view-versus-a-copy\n  errors=errors,\n"
    },
    {
     "data": {
      "text/html": "<div>\n<style scoped>\n    .dataframe tbody tr th:only-of-type {\n        vertical-align: middle;\n    }\n\n    .dataframe tbody tr th {\n        vertical-align: top;\n    }\n\n    .dataframe thead th {\n        text-align: right;\n    }\n</style>\n<table border=\"1\" class=\"dataframe\">\n  <thead>\n    <tr style=\"text-align: right;\">\n      <th></th>\n      <th>name</th>\n      <th>names</th>\n      <th>power</th>\n      <th>toughness</th>\n      <th>text</th>\n      <th>type</th>\n      <th>types</th>\n      <th>subtypes</th>\n      <th>supertypes</th>\n      <th>rarity</th>\n      <th>colorIdentity</th>\n      <th>convertedManaCost</th>\n      <th>faceConvertedManaCost</th>\n      <th>side</th>\n      <th>manaCost_Green</th>\n      <th>manaCost_Blue</th>\n      <th>manaCost_Black</th>\n      <th>manaCost_Red</th>\n      <th>manaCost_White</th>\n      <th>manaCost_colorless</th>\n      <th>colorIdentity_Green</th>\n      <th>colorIdentity_Blue</th>\n      <th>colorIdentity_Black</th>\n      <th>colorIdentity_Red</th>\n      <th>colorIdentity_White</th>\n      <th>colorIdentity_colorless</th>\n    </tr>\n  </thead>\n  <tbody>\n    <tr>\n      <th>0</th>\n      <td>Abundance</td>\n      <td>NaN</td>\n      <td>NaN</td>\n      <td>NaN</td>\n      <td>If you would draw a card, you may instead choo...</td>\n      <td>Enchantment</td>\n      <td>Enchantment</td>\n      <td>NaN</td>\n      <td>NaN</td>\n      <td>rare</td>\n      <td>G</td>\n      <td>4.0</td>\n      <td>NaN</td>\n      <td>NaN</td>\n      <td>2</td>\n      <td>0</td>\n      <td>0</td>\n      <td>0</td>\n      <td>0</td>\n      <td>2</td>\n      <td>1</td>\n      <td>0</td>\n      <td>0</td>\n      <td>0</td>\n      <td>0</td>\n      <td>0</td>\n    </tr>\n    <tr>\n      <th>1</th>\n      <td>Academy Researchers</td>\n      <td>NaN</td>\n      <td>2</td>\n      <td>2</td>\n      <td>When Academy Researchers enters the battlefiel...</td>\n      <td>Creature — Human Wizard</td>\n      <td>Creature</td>\n      <td>Human,Wizard</td>\n      <td>NaN</td>\n      <td>uncommon</td>\n      <td>U</td>\n      <td>3.0</td>\n      <td>NaN</td>\n      <td>NaN</td>\n      <td>0</td>\n      <td>2</td>\n      <td>0</td>\n      <td>0</td>\n      <td>0</td>\n      <td>1</td>\n      <td>0</td>\n      <td>1</td>\n      <td>0</td>\n      <td>0</td>\n      <td>0</td>\n      <td>0</td>\n    </tr>\n  </tbody>\n</table>\n</div>",
      "text/plain": "                  name names power toughness  \\\n0            Abundance   NaN   NaN       NaN   \n1  Academy Researchers   NaN     2         2   \n\n                                                text                     type  \\\n0  If you would draw a card, you may instead choo...              Enchantment   \n1  When Academy Researchers enters the battlefiel...  Creature — Human Wizard   \n\n         types      subtypes supertypes    rarity colorIdentity  \\\n0  Enchantment           NaN        NaN      rare             G   \n1     Creature  Human,Wizard        NaN  uncommon             U   \n\n   convertedManaCost  faceConvertedManaCost side  manaCost_Green  \\\n0                4.0                    NaN  NaN               2   \n1                3.0                    NaN  NaN               0   \n\n   manaCost_Blue  manaCost_Black  manaCost_Red  manaCost_White  \\\n0              0               0             0               0   \n1              2               0             0               0   \n\n   manaCost_colorless  colorIdentity_Green  colorIdentity_Blue  \\\n0                   2                    1                   0   \n1                   1                    0                   1   \n\n   colorIdentity_Black  colorIdentity_Red  colorIdentity_White  \\\n0                    0                  0                    0   \n1                    0                  0                    0   \n\n   colorIdentity_colorless  \n0                        0  \n1                        0  "
     },
     "execution_count": 7,
     "metadata": {},
     "output_type": "execute_result"
    }
   ],
   "source": [
    "names = ['Green','Blue','Black','Red','White']\n",
    "start_ = ['G','U','B','R','W']\n",
    "\n",
    "for i,el in enumerate(names): # creates columns with cost of colors\n",
    "    mtg_whole_2[f'manaCost_{el}'] = mtg_whole_2['manaCost'].apply(lambda x: str(x).count(f'{start_[i]}'))\n",
    "# bellow gennerates cost of colorless. \n",
    "mtg_whole_2['manaCost_colorless'] = mtg_whole_2['convertedManaCost'].astype('int') - sum([mtg_whole_2['manaCost_Green'],mtg_whole_2['manaCost_Red'],mtg_whole_2['manaCost_Black'],mtg_whole_2['manaCost_Blue'], mtg_whole_2['manaCost_White']])\n",
    "\n",
    "for i,el in enumerate(names):\n",
    "    # identityVV\n",
    "    mtg_whole_2[f'colorIdentity_{el}'] = mtg_whole_2['colorIdentity'].apply(lambda x: str(x).count(f'{start_[i]}'))\n",
    "mtg_whole_2['colorIdentity_colorless'] = [1 if x == True else 0 for x in mtg_whole_2['colorIdentity'].isna()]\n",
    "\n",
    "mtg_whole_2.drop(columns = ['manaCost','colors'], inplace = True)\n",
    "mtg_whole_2.head(2)"
   ]
  },
  {
   "cell_type": "code",
   "execution_count": 8,
   "metadata": {},
   "outputs": [],
   "source": [
    "# separates data by distinct card type for clustering within these.\n",
    "creatures = mtg_whole_2.where(mtg_whole_2['types'].str.endswith('Creature')).dropna(how='all') # add artifact/enchanntment creatures.\n",
    "spells = mtg_whole_2.where(mtg_whole_2['types'].str.endswith(('Sorcery', 'Instant'))).drop(columns = [ 'power', 'toughness']).dropna(how='all') # add trybal spells.\n",
    "\n",
    "artifacts = mtg_whole_2.where(mtg_whole_2['types'].str.endswith('Artifact')).drop(columns = ['power', 'toughness']).dropna(how='all') # filter out artefact lands\n",
    "\n",
    "enchantments = mtg_whole_2.where(mtg_whole_2['types'].str.endswith('Enchantment' )).drop(columns = [ 'power', 'toughness']).dropna(how='all')\n",
    "\n",
    "planeswalkers = mtg_whole_2.where(mtg_whole_2['types'].str.endswith('Planeswalker')).drop(columns = [ 'power', 'toughness']).dropna(how='all')"
   ]
  },
  {
   "cell_type": "code",
   "execution_count": 9,
   "metadata": {},
   "outputs": [],
   "source": [
    "# mtg_whole_2['types'].value_counts()\n",
    "# spells['types'].value_counts()\n",
    "comanders = creatures.where(creatures['type'].str.startswith('Legendary Creature')).dropna(how = 'all')"
   ]
  },
  {
   "cell_type": "code",
   "execution_count": 10,
   "metadata": {},
   "outputs": [
    {
     "data": {
      "text/plain": "name                       869\nnames                       36\npower                      869\ntoughness                  869\ntext                       856\ntype                       869\ntypes                      869\nsubtypes                   869\nsupertypes                 869\nrarity                     869\ncolorIdentity              863\nconvertedManaCost          869\nfaceConvertedManaCost       12\nside                        36\nmanaCost_Green             869\nmanaCost_Blue              869\nmanaCost_Black             869\nmanaCost_Red               869\nmanaCost_White             869\nmanaCost_colorless         869\ncolorIdentity_Green        869\ncolorIdentity_Blue         869\ncolorIdentity_Black        869\ncolorIdentity_Red          869\ncolorIdentity_White        869\ncolorIdentity_colorless    869\ndtype: int64"
     },
     "execution_count": 10,
     "metadata": {},
     "output_type": "execute_result"
    }
   ],
   "source": [
    "df['is_commander'] = mtg_whole_2.where(mtg_whole_2['types'].str.endswith('Creature')).where(creatures['type'].str.startswith('Legendary Creature')).dropna(how = 'all')"
   ]
  },
  {
   "cell_type": "code",
   "execution_count": 11,
   "metadata": {},
   "outputs": [
    {
     "data": {
      "text/plain": "'https://img.scryfall.com/cards/normal/front/4/6/46184f97-d5c9-4a98-9fd9-e19057ce9b7e.jpg?1562547005'"
     },
     "execution_count": 11,
     "metadata": {},
     "output_type": "execute_result"
    }
   ],
   "source": [
    "import pandas as pd\n",
    "import numpy as np\n",
    "import requests\n",
    "from time import sleep\n",
    "import json\n",
    "\n",
    "scryfall_end = 'https://api.scryfall.com'\n",
    "\n",
    "def get_img(url):\n",
    "    sleep(3)\n",
    "    get_ = requests.get(url)\n",
    "    json_ = json.loads(get_.text)\n",
    "    return json_['image_uris']['normal']\n",
    "\n",
    "df = mtg_modern['scryfallId']\n",
    "i = f'{scryfall_end}/cards/{df[0]}' \n",
    "get_img(i)"
   ]
  },
  {
   "cell_type": "code",
   "execution_count": 117,
   "metadata": {},
   "outputs": [
    {
     "data": {
      "text/html": "<div>\n<style scoped>\n    .dataframe tbody tr th:only-of-type {\n        vertical-align: middle;\n    }\n\n    .dataframe tbody tr th {\n        vertical-align: top;\n    }\n\n    .dataframe thead th {\n        text-align: right;\n    }\n</style>\n<table border=\"1\" class=\"dataframe\">\n  <thead>\n    <tr style=\"text-align: right;\">\n      <th></th>\n      <th>Unnamed: 0</th>\n      <th>name</th>\n      <th>power</th>\n      <th>toughness</th>\n      <th>text</th>\n      <th>types</th>\n      <th>type</th>\n      <th>subtypes</th>\n      <th>rarity</th>\n      <th>convertedManaCost</th>\n      <th>faceConvertedManaCost</th>\n      <th>side</th>\n      <th>scryfallId</th>\n      <th>manaCost_Green</th>\n      <th>manaCost_Blue</th>\n      <th>manaCost_Black</th>\n      <th>manaCost_Red</th>\n      <th>manaCost_White</th>\n      <th>manaCost_colorless</th>\n      <th>colorIdentity_Green</th>\n      <th>colorIdentity_Blue</th>\n      <th>colorIdentity_Black</th>\n      <th>colorIdentity_Red</th>\n      <th>colorIdentity_White</th>\n      <th>is_commander</th>\n      <th>uri</th>\n    </tr>\n  </thead>\n  <tbody>\n    <tr>\n      <th>0</th>\n      <td>0</td>\n      <td>Abundance</td>\n      <td>NaN</td>\n      <td>NaN</td>\n      <td>If you would draw a card, you may instead choose land or nonland and reveal cards from the top of your library until you reveal a card of the chosen kind. Put that card into your hand and put all other cards revealed this way on the bottom of your library in any order.</td>\n      <td>Enchantment</td>\n      <td>Enchantment</td>\n      <td>NaN</td>\n      <td>rare</td>\n      <td>4.0</td>\n      <td>NaN</td>\n      <td>NaN</td>\n      <td>46184f97-d5c9-4a98-9fd9-e19057ce9b7e</td>\n      <td>2</td>\n      <td>0</td>\n      <td>0</td>\n      <td>0</td>\n      <td>0</td>\n      <td>2</td>\n      <td>1</td>\n      <td>0</td>\n      <td>0</td>\n      <td>0</td>\n      <td>0</td>\n      <td>0</td>\n      <td>https://img.scryfall.com/cards/normal/front/4/6/46184f97-d5c9-4a98-9fd9-e19057ce9b7e.jpg?1562547005</td>\n    </tr>\n    <tr>\n      <th>1</th>\n      <td>1</td>\n      <td>Academy Researchers</td>\n      <td>2</td>\n      <td>2</td>\n      <td>When Academy Researchers enters the battlefield, you may put an Aura card from your hand onto the battlefield attached to Academy Researchers.</td>\n      <td>Creature</td>\n      <td>Creature — Human Wizard</td>\n      <td>Human,Wizard</td>\n      <td>uncommon</td>\n      <td>3.0</td>\n      <td>NaN</td>\n      <td>NaN</td>\n      <td>b62ca800-ec24-476e-b56f-834eef9622a9</td>\n      <td>0</td>\n      <td>2</td>\n      <td>0</td>\n      <td>0</td>\n      <td>0</td>\n      <td>1</td>\n      <td>0</td>\n      <td>1</td>\n      <td>0</td>\n      <td>0</td>\n      <td>0</td>\n      <td>0</td>\n      <td>https://img.scryfall.com/cards/normal/front/b/6/b62ca800-ec24-476e-b56f-834eef9622a9.jpg?1562553915</td>\n    </tr>\n    <tr>\n      <th>2</th>\n      <td>2</td>\n      <td>Adarkar Wastes</td>\n      <td>NaN</td>\n      <td>NaN</td>\n      <td>{T}: Add {C}.\\n{T}: Add {W} or {U}. Adarkar Wastes deals 1 damage to you.</td>\n      <td>Land</td>\n      <td>Land</td>\n      <td>NaN</td>\n      <td>rare</td>\n      <td>0.0</td>\n      <td>NaN</td>\n      <td>NaN</td>\n      <td>f31cf014-7ac9-428b-9ce9-8ba5ebfdd252</td>\n      <td>0</td>\n      <td>0</td>\n      <td>0</td>\n      <td>0</td>\n      <td>0</td>\n      <td>0</td>\n      <td>0</td>\n      <td>1</td>\n      <td>0</td>\n      <td>0</td>\n      <td>1</td>\n      <td>0</td>\n      <td>https://img.scryfall.com/cards/normal/front/f/3/f31cf014-7ac9-428b-9ce9-8ba5ebfdd252.jpg?1562557714</td>\n    </tr>\n    <tr>\n      <th>3</th>\n      <td>3</td>\n      <td>Afflict</td>\n      <td>NaN</td>\n      <td>NaN</td>\n      <td>Target creature gets -1/-1 until end of turn.\\nDraw a card.</td>\n      <td>Instant</td>\n      <td>Instant</td>\n      <td>NaN</td>\n      <td>common</td>\n      <td>3.0</td>\n      <td>NaN</td>\n      <td>NaN</td>\n      <td>20f18447-2853-469b-b3b3-20d6bcafa6e7</td>\n      <td>0</td>\n      <td>0</td>\n      <td>1</td>\n      <td>0</td>\n      <td>0</td>\n      <td>2</td>\n      <td>0</td>\n      <td>0</td>\n      <td>1</td>\n      <td>0</td>\n      <td>0</td>\n      <td>0</td>\n      <td>https://img.scryfall.com/cards/normal/front/2/0/20f18447-2853-469b-b3b3-20d6bcafa6e7.jpg?1562544882</td>\n    </tr>\n    <tr>\n      <th>4</th>\n      <td>4</td>\n      <td>Aggressive Urge</td>\n      <td>NaN</td>\n      <td>NaN</td>\n      <td>Target creature gets +1/+1 until end of turn.\\nDraw a card.</td>\n      <td>Instant</td>\n      <td>Instant</td>\n      <td>NaN</td>\n      <td>common</td>\n      <td>2.0</td>\n      <td>NaN</td>\n      <td>NaN</td>\n      <td>bf92ae01-9d1e-4b41-b068-096648daadf6</td>\n      <td>1</td>\n      <td>0</td>\n      <td>0</td>\n      <td>0</td>\n      <td>0</td>\n      <td>1</td>\n      <td>1</td>\n      <td>0</td>\n      <td>0</td>\n      <td>0</td>\n      <td>0</td>\n      <td>0</td>\n      <td>https://img.scryfall.com/cards/normal/front/b/f/bf92ae01-9d1e-4b41-b068-096648daadf6.jpg?1562554491</td>\n    </tr>\n  </tbody>\n</table>\n</div>",
      "text/plain": "   Unnamed: 0                 name power toughness  \\\n0           0            Abundance   NaN       NaN   \n1           1  Academy Researchers     2         2   \n2           2       Adarkar Wastes   NaN       NaN   \n3           3              Afflict   NaN       NaN   \n4           4      Aggressive Urge   NaN       NaN   \n\n                                                                                                                                                                                                                                                                            text  \\\n0  If you would draw a card, you may instead choose land or nonland and reveal cards from the top of your library until you reveal a card of the chosen kind. Put that card into your hand and put all other cards revealed this way on the bottom of your library in any order.   \n1                                                                                                                                 When Academy Researchers enters the battlefield, you may put an Aura card from your hand onto the battlefield attached to Academy Researchers.   \n2                                                                                                                                                                                                      {T}: Add {C}.\\n{T}: Add {W} or {U}. Adarkar Wastes deals 1 damage to you.   \n3                                                                                                                                                                                                                    Target creature gets -1/-1 until end of turn.\\nDraw a card.   \n4                                                                                                                                                                                                                    Target creature gets +1/+1 until end of turn.\\nDraw a card.   \n\n         types                     type      subtypes    rarity  \\\n0  Enchantment              Enchantment           NaN      rare   \n1     Creature  Creature — Human Wizard  Human,Wizard  uncommon   \n2         Land                     Land           NaN      rare   \n3      Instant                  Instant           NaN    common   \n4      Instant                  Instant           NaN    common   \n\n   convertedManaCost  faceConvertedManaCost side  \\\n0                4.0                    NaN  NaN   \n1                3.0                    NaN  NaN   \n2                0.0                    NaN  NaN   \n3                3.0                    NaN  NaN   \n4                2.0                    NaN  NaN   \n\n                             scryfallId  manaCost_Green  manaCost_Blue  \\\n0  46184f97-d5c9-4a98-9fd9-e19057ce9b7e               2              0   \n1  b62ca800-ec24-476e-b56f-834eef9622a9               0              2   \n2  f31cf014-7ac9-428b-9ce9-8ba5ebfdd252               0              0   \n3  20f18447-2853-469b-b3b3-20d6bcafa6e7               0              0   \n4  bf92ae01-9d1e-4b41-b068-096648daadf6               1              0   \n\n   manaCost_Black  manaCost_Red  manaCost_White  manaCost_colorless  \\\n0               0             0               0                   2   \n1               0             0               0                   1   \n2               0             0               0                   0   \n3               1             0               0                   2   \n4               0             0               0                   1   \n\n   colorIdentity_Green  colorIdentity_Blue  colorIdentity_Black  \\\n0                    1                   0                    0   \n1                    0                   1                    0   \n2                    0                   1                    0   \n3                    0                   0                    1   \n4                    1                   0                    0   \n\n   colorIdentity_Red  colorIdentity_White  is_commander  \\\n0                  0                    0             0   \n1                  0                    0             0   \n2                  0                    1             0   \n3                  0                    0             0   \n4                  0                    0             0   \n\n                                                                                                   uri  \n0  https://img.scryfall.com/cards/normal/front/4/6/46184f97-d5c9-4a98-9fd9-e19057ce9b7e.jpg?1562547005  \n1  https://img.scryfall.com/cards/normal/front/b/6/b62ca800-ec24-476e-b56f-834eef9622a9.jpg?1562553915  \n2  https://img.scryfall.com/cards/normal/front/f/3/f31cf014-7ac9-428b-9ce9-8ba5ebfdd252.jpg?1562557714  \n3  https://img.scryfall.com/cards/normal/front/2/0/20f18447-2853-469b-b3b3-20d6bcafa6e7.jpg?1562544882  \n4  https://img.scryfall.com/cards/normal/front/b/f/bf92ae01-9d1e-4b41-b068-096648daadf6.jpg?1562554491  "
     },
     "execution_count": 117,
     "metadata": {},
     "output_type": "execute_result"
    }
   ],
   "source": [
    "df1 = pd.read_csv('mtg_modern_clean.csv')\n",
    "df1.head()"
   ]
  },
  {
   "cell_type": "code",
   "execution_count": 11,
   "metadata": {},
   "outputs": [
    {
     "data": {
      "text/plain": "6812           Werewolf Ransacker\n6813           Afflicted Deserter\n6828             Chalice of Death\n6829              Chalice of Life\n6832             Markov's Servant\n6833             Chosen of Markov\n6847            Withengar Unbound\n6848    Elbrus, the Binding Blade\n6873           Hinterland Scourge\n6874            Hinterland Hermit\nName: name, dtype: object"
     },
     "execution_count": 11,
     "metadata": {},
     "output_type": "execute_result"
    }
   ],
   "source": [
    "import pandas as pd\n",
    "\n",
    "\n",
    "#df1['uri'] = df['uri']\n",
    "df1.query('uri == \"0\"')['name'].head(10)"
   ]
  },
  {
   "cell_type": "code",
   "execution_count": 118,
   "metadata": {},
   "outputs": [],
   "source": [
    "import pandas as pd\n",
    "data = pd.read_csv('mtg_modern_clean.csv')"
   ]
  },
  {
   "cell_type": "code",
   "execution_count": 81,
   "metadata": {},
   "outputs": [
    {
     "data": {
      "text/plain": "67bb111f5.jpg?1562552546',\n 'https://img.scryfall.com/cards/normal/front/e/a/eafd2e27-01d0-4894-886e-2b8776904ab9.jpg?1562796410',\n 'https://img.scryfall.com/cards/normal/front/9/7/97c2cc25-f3cd-4bfb-b9cc-53d1f42cd69a.jpg?1562791312',\n 'https://img.scryfall.com/cards/normal/front/0/4/0415cc0e-979e-42cc-a56d-88d13153a7de.jpg?1570587583',\n 'https://img.scryfall.com/cards/normal/front/5/b/5be8eed7-c033-42cc-bd21-4512db7af66c.jpg?1562302239',\n 'https://img.scryfall.com/cards/normal/front/9/0/90cef94d-d941-4e08-afec-a116626b74fb.jpg?1562302971',\n 'https://img.scryfall.com/cards/normal/front/5/e/5e058ff8-043c-498b-8310-0ca45466ac27.jpg?1562302266',\n 'https://img.scryfall.com/cards/normal/front/1/a/1a1d95b9-aa18-41e2-b972-93fda25e0b11.jpg?1562300734',\n 'https://img.scryfall.com/cards/normal/front/d/1/d19fdc00-21eb-48dc-966a-6b634dc5a2c4.jpg?1562304374',\n 'https://img.scryfall.com/cards/normal/front/e/e/ee338221-ead9-4b89-8b0c-12745c4ca13d.jpg?1562304880',\n 'https://img.scryfall.com/cards/normal/front/3/4/34ad8e5d-0c26-4588-8161-b22197715d63.jpg?1562301653',\n 'https://img.scryfall.com/cards/normal/front/1/e/1e619121-f2e8-4da5-8652-a2b5dae2e55c.jpg?1563899420',\n 'https://img.scryfall.com/cards/normal/front/c/b/cbe262f2-e35b-4c85-938d-3e9e9c764c1b.jpg?1563899427',\n 'https://img.scryfall.com/cards/normal/front/7/0/70e3a90c-1e5c-4646-b3d5-ff46d3fa7b35.jpg?1563900325',\n 'https://img.scryfall.com/cards/normal/front/6/3/6397d426-00e0-44da-b23c-44ccea65f5aa.jpg?1563900158',\n 'https://img.scryfall.com/cards/normal/front/d/b/db5879c5-4b0a-42fa-a44f-580e0221a32b.jpg?1563899353',\n 'https://img.scryfall.com/cards/normal/front/b/f/bfbc0f7c-546f-4525-bb58-c99ab9b017d5.jpg?1563899039',\n 'https://img.scryfall.com/cards/normal/front/3/1/31e22edb-a815-413d-b62d-f32f8932b6e6.jpg?1563899045',\n 'https://img.scryfall.com/cards/normal/front/c/e/ced4b4a9-73a8-4135-b150-cd78d1558aca.jpg?1563900402',\n 'https://img.scryfall.com/cards/normal/front/a/1/a1001d43-e11b-4e5e-acd4-4a50ef89977f.jpg?1563899734',\n 'https://img.scryfall.com/cards/normal/front/f/f/ff76c732-2eec-4836-9230-22e2680e98ec.jpg?1573513284',\n 'https://img.scryfall.com/cards/normal/front/c/f/cfc67c6d-ba1e-4e30-a5a4-5672ec146cbd.jpg?1573507245',\n 'https://img.scryfall.com/cards/normal/front/e/f/ef62550a-e6d4-4693-8bb4-1363f07e7e7a.jpg?1573508367',\n 'https://img.scryfall.com/cards/normal/front/1/8/1833a979-2210-42dd-a18f-68a3248fe766.jpg?1573508494',\n 'https://img.scryfall.com/cards/normal/front/f/b/fba349dc-d7b8-4587-a879-dd0d87e06eaf.jpg?1573506712',\n 'https://img.scryfall.com/cards/normal/front/c/2/c2889bba-58a8-46e1-959c-0fd38c1732f9.jpg?1562614527',\n 'https://img.scryfall.com/cards/normal/front/3/f/3f7f31fb-af96-4c8c-80fa-219ebd7c3d4d.jpg?1562610787',\n 'https://img.scryfall.com/cards/normal/front/f/2/f2228ee5-507a-46ba-82ae-72ba3088a568.jpg?1562615859',\n 'https://img.scryfall.com/cards/normal/front/8/b/8b7e986f-5b28-46d2-8ec2-ee719b07dbfd.jpg?1562612880',\n 'https://img.scryfall.com/cards/normal/front/2/7/2798fdff-0b39-41b6-b0ec-c4f449ca3314.jpg?1562610240',\n 'https://img.scryfall.com/cards/normal/front/5/5/55c23f66-1a81-45ac-91d9-ee9c661c33cd.jpg?1562868567',\n 'https://img.scryfall.com/cards/normal/front/e/6/e6a4a1ae-7620-4656-a2a8-5e2c16db8f85.jpg?1562943652',\n 'https://img.scryfall.com/cards/normal/front/0/c/0c607ba1-e133-47f3-a79a-5f0dc8c4b9ac.jpg?1562636671',\n 'https://img.scryfall.com/cards/normal/front/1/e/1eddb834-ea01-44e2-afca-bd9a4ebbdb94.jpg?1562202283',\n 'https://img.scryfall.com/cards/normal/front/e/5/e54423c1-ebea-4b5c-b563-1d14c104eb91.jpg?1562201791',\n 'https://img.scryfall.com/cards/normal/front/a/9/a90a1c44-ee0f-4c12-bfaf-6f371bcce167.jpg?1562201588',\n 'https://img.scryfall.com/cards/normal/front/c/3/c36820fa-ee86-4206-9a0d-737a67cf5208.jpg?1562202603',\n 'https://img.scryfall.com/cards/normal/front/3/f/3f495b27-3eed-4962-b69a-b86f9fc6a9a7.jpg?1562718792',\n 'https://img.scryfall.com/cards/normal/front/1/c/1c46caa8-efc0-4b72-b122-61e5d86a5b86.jpg?1562628868',\n 'https://img.scryfall.com/cards/normal/front/1/3/13b78018-bfbe-43fa-809f-9b52a155e11c.jpg?1562875632',\n 'https://img.scryfall.com/cards/normal/front/9/5/9588be49-d9b5-4491-a5a0-10bcadc9f8b3.jpg?1562879913',\n 'https://img.scryfall.com/cards/normal/front/5/8/5823990c-8d40-4352-8d34-74332934adb2.jpg?1562877774',\n 'https://img.scryfall.com/cards/normal/front/f/5/f52f08e1-b234-42e4-8f1f-485a4f6edb3b.jpg?1562882828',\n 'https://img.scryfall.com/cards/normal/front/4/4/44012bb8-17b7-4b50-a796-662ef09bfc29.jpg?1562907424',\n 'https://img.scryfall.com/cards/normal/front/1/8/1809361e-ae1a-4c47-8464-e6496e94d962.jpg?1562899549',\n 'https://img.scryfall.com/cards/normal/front/e/1/e1f3a32a-bfd2-4c31-a349-3e62a84c20e1.jpg?1562937245',\n 'https://img.scryfall.com/cards/normal/front/1/7/17542219-1165-4483-9cef-7abecaebb6a2.jpg?1562899421',\n 'https://img.scryfall.com/cards/normal/front/0/0/00615487-3526-4b4c-bb06-8f2af1f101d0.jpg?1562895063',\n 'https://img.scryfall.com/cards/normal/front/c/d/cd0e9e53-2710-4c2a-a8e4-48f25375ebc7.jpg?1562933365',\n 'https://img.scryfall.com/cards/normal/front/9/e/9e492399-d514-485a-8cdd-a3797a05e47a.jpg?1562924445',\n 'https://img.scryfall.com/cards/normal/front/7/0/70d05b6a-5c7e-4e08-88d3-98f2b5b054bc.jpg?1562915880',\n 'https://img.scryfall.com/cards/normal/front/7/6/76ef2016-b3c8-4615-a056-3000bcccb68e.jpg?1562917001',\n 'https://img.scryfall.com/cards/normal/front/b/a/ba7a96ee-e2d1-4d76-a09e-d6868ddd9282.jpg?1562929803',\n 'https://img.scryfall.com/cards/normal/front/a/b/ab9016e5-f64f-4574-bf30-da0456b1ddec.jpg?1562931196',\n 'https://img.scryfall.com/cards/normal/front/e/f/ef43192f-4e83-4ffc-a932-4ecf211b4a4a.jpg?1562945457',\n 'https://img.scryfall.com/cards/normal/front/c/b/cbc8957d-769c-4630-9544-56cea8c847c2.jpg?1562935956',\n 'https://img.scryfall.com/cards/normal/front/4/9/49fdd0d3-7140-4c12-a41c-37eedd986d9e.jpg?1562909973',\n 'https://img.scryfall.com/cards/normal/front/b/f/bff62270-57ed-4706-bedf-11f60ae2da43.jpg?1562933591',\n 'https://img.scryfall.com/cards/normal/front/9/9/996da623-1c34-4545-a800-648238ea91ae.jpg?1562925962',\n 'https://img.scryfall.com/cards/normal/front/8/c/8c21da73-0dad-4b2b-8cc6-61861bed9410.jpg?1562923296',\n 'https://img.scryfall.com/cards/normal/front/5/c/5ce587ba-f23a-4548-a5b8-fca54984d4b4.jpg?1562913827',\n 'https://img.scryfall.com/cards/normal/front/3/3/33ff1000-1a4e-43f6-aa02-1dbe9fac6901.jpg?1562905471',\n 'https://img.scryfall.com/cards/normal/front/5/a/5a0ff591-e4d9-4b62-ac9c-7962fd815226.jpg?1562913304',\n 'https://img.scryfall.com/cards/normal/front/3/d/3d03025d-a53e-4bd4-9f21-1249d0af5bc2.jpg?1547434423',\n 'https://img.scryfall.com/cards/normal/front/f/8/f872b281-1419-4b92-ba38-68d253803ba7.jpg?1547434093',\n 'https://img.scryfall.com/cards/normal/front/3/7/379809a2-988b-46a8-a38e-134cee7eeaaf.jpg?1547434254',\n 'https://img.scryfall.com/cards/normal/front/c/3/c3710c68-3f71-4d76-8bd2-001f0e8036f5.jpg?1562941167',\n 'https://img.scryfall.com/cards/normal/front/7/f/7f2a29cf-4b2e-44c0-af73-512d6fed0dae.jpg?1562925005',\n 'https://img.scryfall.com/cards/normal/front/6/b/6bfe64f9-8b03-41f6-a47b-fade397ad9d1.jpg?1562920423',\n '0',\n 'https://img.scryfall.com/cards/normal/front/b/4/b471102b-a66e-4cdc-b20f-7ae1f9bd0e8a.jpg?1562937575',\n 'https://img.scryfall.com/cards/normal/front/1/7/17ef39fd-96d0-4a02-97d5-580d121b92a3.jpg?1562900757',\n 'https://img.scryfall.com/cards/normal/front/5/9/59d8d22b-d5e7-412e-86e6-b7cd7c71dbb5.jpg?1575572161',\n 'https://img.scryfall.com/cards/normal/front/f/d/fd3c7b0c-98bd-4c63-bbb0-80484a5ab26f.jpg?1562942737',\n 'https://img.scryfall.com/cards/normal/front/1/4/148fbe36-b22d-44e6-9341-7f707baca49d.jpg?1562898899',\n 'https://img.scryfall.com/cards/normal/front/6/3/63049fe4-de25-4606-a271-4ccb1b8298f1.jpg?1579814053',\n 'https://img.scryfall.com/cards/normal/front/5/b/5b0293a9-48fe-4018-bd25-3e02c227a3dd.jpg?1562913988',\n 'https://img.scryfall.com/cards/normal/front/3/2/32f49716-1522-4f36-92c9-63ef2059c4ef.jpg?1562446161',\n 'https://img.scryfall.com/cards/normal/front/f/0/f0944759-ee9f-4ae0-9d1b-2533ff6791a2.jpg?1562448331',\n 'https://img.scryfall.com/cards/normal/front/7/0/70c5ac71-bf45-4b99-8184-36ce88dd728a.jpg?1562446863',\n 'https://img.scryfall.com/cards/normal/front/5/9/59f9b7f9-1f6c-416f-ba73-62924bca1856.jpg?1562911620',\n 'https://img.scryfall.com/cards/normal/front/a/0/a0009f87-532b-4b75-b9ce-fb9d93c7671f.jpg?1562927263',\n 'https://img.scryfall.com/cards/normal/front/5/3/53cfded0-ff53-49f6-85be-f8e9225a91fa.jpg?1562912034',\n 'https://img.scryfall.com/cards/normal/front/2/8/284eccf9-957a-40a7-8f0a-7f71422055e1.jpg?1566582397',\n 'https://img.scryfall.com/cards/normal/front/d/b/dbc08bf3-3af3-4d67-84eb-ecececd1a91e.jpg?1566582423',\n 'https://img.scryfall.com/cards/normal/front/8/d/8d592f31-297f-4bcd-b438-f5b7e839852a.jpg?1562546409',\n 'https://img.scryfall.com/cards/normal/front/a/a/aaebc936-2761-45e8-8e92-9a0f776c3001.jpg?1562547312',\n 'https://img.scryfall.com/cards/normal/front/1/5/15fef6a2-d55f-495c-8ba4-e64c2c5603a0.jpg?1562543095',\n 'https://img.scryfall.com/cards/normal/front/a/f/af4b0fab-4ce1-4516-8960-3f8ca37d7644.jpg?1562547444',\n 'https://img.scryfall.com/cards/normal/front/6/2/62c4aba2-195d-47f5-8b6a-bd925522ea84.jpg?1581630501',\n 'https://img.scryfall.com/cards/normal/front/1/8/18f074f3-d4f2-4c5b-b4f8-a790a798b625.jpg?1570828571',\n 'https://img.scryfall.com/cards/normal/front/5/6/56cb6d16-506e-4902-b0d8-883651a624f5.jpg?1562448781',\n 'https://img.scryfall.com/cards/normal/front/8/0/80f08709-639a-4fae-bcfc-a9855b0214cf.jpg?1562918903',\n 'https://img.scryfall.com/cards/normal/front/d/c/dc2eec06-261c-4cb3-bd8e-23aaf07db47d.jpg?1566582154',\n 'https://img.scryfall.com/cards/normal/front/d/0/d04e5a78-4cd5-4be9-a06e-71562435836e.jpg?1562933963',\n 'https://img.scryfall.com/cards/normal/front/6/3/6355d069-eb76-40a0-901b-d6b737780cc2.jpg?1566582140',\n 'https://img.scryfall.com/cards/normal/front/e/7/e79cb13c-11b9-4a3b-a701-af10732c1e05.jpg?1562938343',\n 'https://img.scryfall.com/cards/normal/front/3/f/3fb72119-4b7c-4008-ac09-dfdcc6d5f5be.jpg?1562253498',\n 'https://img.scryfall.com/cards/normal/front/e/e/ee88b35c-97be-4bfb-83c0-52b075c60e36.jpg?1562255374',\n 'https://img.scryfall.com/cards/normal/front/c/4/c4d5a88e-fc8f-4dd6-a1db-8e44b74ee0a1.jpg?1562120270',\n 'https://img.scryfall.com/cards/normal/front/b/5/b5bd4bdd-3a2a-40d9-9f86-fefe0a462cd2.jpg?1555040519',\n 'https://img.scryfall.com/cards/normal/front/9/1/91685732-c118-4f52-ac77-f96866a687a3.jpg?1555041155',\n 'https://img.scryfall.com/cards/normal/front/2/1/21e1161f-bd2c-45a7-a86b-3b2e5210f148.jpg?1572893775',\n 'https://img.scryfall.com/cards/normal/front/1/1/1132218d-56cd-441e-9006-df3c50344491.jpg?1562701264',\n 'https://img.scryfall.com/cards/normal/front/9/f/9f70224d-e723-436d-8493-dcec5049f1a0.jpg?1562706804',\n 'https://img.scryfall.com/cards/normal/front/e/1/e150896e-8745-42ac-894b-8f42a92bd7a7.jpg?1562794464',\n 'https://img.scryfall.com/cards/normal/front/2/f/2f319d57-7a54-4b10-86d4-58d7b3994844.jpg?1562784397',\n 'https://img.scryfall.com/cards/normal/front/3/7/37a6290c-a0a8-4032-972b-84a7eef04dae.jpg?1562784875',\n 'https://img.scryfall.com/cards/normal/front/5/8/5839556c-6635-44c4-96ed-666e4466b929.jpg?1562786679',\n 'https://img.scryfall.com/cards/normal/front/1/9/1998135c-7b7f-402b-a8a5-4f4af131b1bc.jpg?1562783285',\n 'https://img.scryfall.com/cards/normal/front/6/d/6d224279-83f3-4a29-9fd9-86b72407b87a.jpg?1562787838',\n 'https://img.scryfall.com/cards/normal/front/2/6/2630d3b5-8f3a-4aad-a45e-22a7979429f3.jpg?1562526606',\n 'https://img.scryfall.com/cards/normal/front/5/8/58017ff1-74d2-4be2-976a-8dff53e16150.jpg?1562529448',\n 'https://img.scryfall.com/cards/normal/front/b/7/b72dbe81-96d0-4b0d-97a7-c59345f081e8.jpg?1562533763',\n 'https://img.scryfall.com/cards/normal/front/d/9/d9ead6c3-a4e9-43e0-ae2a-6eb73033bc49.jpg?1562535298',\n 'https://img.scryfall.com/cards/normal/front/9/b/9bde655f-9f49-42f8-a168-9cbca0592bb8.jpg?1562833713',\n 'https://img.scryfall.com/cards/normal/front/f/1/f1112ebe-2a42-48b9-b0e5-f708305d088a.jpg?1576384694',\n 'https://img.scryfall.com/cards/normal/front/b/7/b7512d74-4330-4de7-9c0c-4bb7f37f6066.jpg?1562495600',\n 'https://img.scryfall.com/cards/normal/front/4/1/41004bdf-8e09-4b2c-9e9c-26c25eac9854.jpg?1562493483',\n 'https://img.scryfall.com/cards/normal/front/5/a/5a5841fa-4f30-495a-b840-3ef5a2af8fad.jpg?1562494149',\n 'https://img.scryfall.com/cards/normal/front/f/a/faef8b8b-2c45-4fed-b6ba-a8ac49c66330.jpg?1562825404',\n 'https://img.scryfall.com/cards/normal/front/8/c/8c6b5db0-7d2c-4337-b1c4-9e1219f603c7.jpg?1562820134',\n 'https://img.scryfall.com/cards/normal/front/1/7/1767355d-82a2-495e-ae95-d91984a9c62a.jpg?1562814995',\n 'https://img.scryfall.com/cards/normal/front/a/a/aa45664c-ac39-40f8-9f56-cf25ed60a84a.jpg?1562597344',\n 'https://img.scryfall.com/cards/normal/front/d/2/d2897635-b387-485d-932f-5655244a381f.jpg?1581479342',\n 'https://img.scryfall.com/cards/normal/front/a/2/a238aa9c-661e-449a-8f05-70b7954e544f.jpg?1580177955',\n 'https://img.scryfall.com/cards/normal/front/8/2/8200fcda-e30c-460f-9964-47e657b7c758.jpg?1581480733',\n 'https://img.scryfall.com/cards/normal/front/5/1/51ac77d4-f918-4bbc-b023-8117a8c401ee.jpg?1581479564',\n 'https://img.scryfall.com/cards/normal/front/9/5/95a36e06-39f3-47d0-b6a9-43728afceb4a.jpg?1562821652',\n 'https://img.scryfall.com/cards/normal/front/b/f/bfedc78e-47dc-43e3-aed7-2d5c8e97fdac.jpg?1562056395',\n 'https://img.scryfall.com/cards/normal/front/c/3/c340e779-c648-48fd-a159-174b46f2d1b3.jpg?1562056401',\n 'https://img.scryfall.com/cards/normal/front/e/2/e2b9a001-2a1e-4fc4-9b84-c776f741a858.jpg?1562056897',\n 'https://img.scryfall.com/cards/normal/front/4/b/4baacffe-76d1-4cfb-a047-d6d126bb8de0.jpg?1562053779',\n 'https://img.scryfall.com/cards/normal/front/a/2/a2fb7128-806b-4148-80fe-eb967f248021.jpg?1562055899',\n 'https://img.scryfall.com/cards/normal/front/7/0/70fa9ebe-bdf5-4359-aa3e-6cfa1a1d96cf.jpg?1562054475',\n 'https://img.scryfall.com/cards/normal/front/7/1/71025a6b-3aed-4943-a907-9584d135f6c0.jpg?1562054477',\n 'https://img.scryfall.com/cards/normal/front/e/e/ee874779-e654-48f0-8f2d-cc98ef150d75.jpg?1562945243',\n 'https://img.scryfall.com/cards/normal/front/6/8/685fc2f8-4cad-46a1-b9d7-d94c13990994.jpg?1562916821',\n 'https://img.scryfall.com/cards/normal/front/f/8/f8c54575-dc1d-491c-a4f6-41f76eba2a2d.jpg?1562947635',\n 'https://img.scryfall.com/cards/normal/front/d/2/d2e40b14-48a2-4b9e-b767-e914cab04b30.jpg?1557577129',\n 'https://img.scryfall.com/cards/normal/front/a/0/a0a64d2e-8b89-4642-84c2-b01dfe11312e.jpg?1558667571',\n 'https://img.scryfall.com/cards/normal/front/4/3/43e7331d-98b8-420f-a346-3f3521c3b258.jpg?1558667573',\n 'https://img.scryfall.com/cards/normal/front/7/d/7dce06ba-c1e1-45ec-82a7-fc10b0fa8870.jpg?1557577413',\n 'https://img.scryfall.com/cards/normal/front/7/d/7dcb1f9d-105d-48c6-bd66-d7e8839de9e1.jpg?1557575969',\n 'https://img.scryfall.com/cards/normal/front/a/f/af569235-f5cb-4e3e-ba77-c1c429ed0a60.jpg?1557577155',\n 'https://img.scryfall.com/cards/normal/front/d/7/d7ae9cb7-a3af-4224-89a5-a72f4d09dacf.jpg?1557576484',\n 'https://img.scryfall.com/cards/normal/front/0/3/03e8d2c7-cd6e-48bf-9d54-73f3d6cff0aa.jpg?1558667629',\n 'https://img.scryfall.com/cards/normal/front/f/0/f03b5405-6016-405b-a504-a454731b9276.jpg?1557576262',\n 'https://img.scryfall.com/cards/normal/front/7/9/7946b256-ae79-4b99-8bf4-0d627baf9044.jpg?1557576966',\n 'https://img.scryfall.com/cards/normal/front/2/8/2829fa40-92e4-4017-aacd-9d9feae04aa2.jpg?1557576101',\n 'https://img.scryfall.com/cards/normal/front/1/2/125a355d-bfcf-4125-aa6c-35e7dea6f63e.jpg?1562799430',\n 'https://img.scryfall.com/cards/normal/front/b/5/b5fb56a2-5138-4c31-aa4b-0824a1a24573.jpg?1562802905',\n 'https://img.scryfall.com/cards/normal/front/8/9/89f23295-ad0a-4e2d-ae04-1a9c065e575d.jpg?1562802015',\n 'https://img.scryfall.com/cards/normal/front/f/2/f263eb80-f8f2-4b32-8e8b-a297de9f3666.jpg?1562804203',\n 'https://img.scryfall.com/cards/normal/front/3/8/3884bede-df28-42e8-9ac9-ae03118b1985.jpg?1562800239',\n 'https://img.scryfall.com/cards/normal/front/a/b/ab4ced80-926a-4e4d-8ebd-d4fe7374a6ad.jpg?1562802648',\n 'https://img.scryfall.com/cards/normal/front/b/e/bee3a23a-6ecf-439c-8637-e096fa8c1a80.jpg?1562803106',\n 'https://img.scryfall.com/cards/normal/front/7/b/7bc734e9-fb09-4094-94b6-76c0458649e9.jpg?1562801720',\n 'https://img.scryfall.com/cards/normal/front/8/e/8e68aa29-9f38-48a2-b00a-39aef9d91f6d.jpg?1562802106',\n 'https://img.scryfall.com/cards/normal/front/3/5/354c9de7-0cdf-4302-9d1a-ae17eca13053.jpg?1562800177',\n 'https://img.scryfall.com/cards/normal/front/2/d/2d688bda-fee2-496d-9793-794c2568b54e.jpg?1562800032',\n 'https://img.scryfall.com/cards/normal/front/0/9/09e7b9ec-90cf-4d23-af5e-48394398ff06.jpg?1562799269',\n 'https://img.scryfall.com/cards/normal/front/4/e/4e30d025-1df9-4a08-b686-037e9cbf23a6.jpg?1562800751',\n 'https://img.scryfall.com/cards/normal/front/1/b/1baf2a6c-57ec-4b38-8b08-4b3f800dbe99.jpg?1562799609',\n 'https://img.scryfall.com/cards/normal/front/b/d/bdfe3eed-e415-4b28-8b4d-e50a19235683.jpg?1562803088',\n 'https://img.scryfall.com/cards/normal/front/d/f/dff4512b-8244-4e38-bffb-0062a97d9531.jpg?1562803813',\n 'https://img.scryfall.com/cards/normal/front/3/d/3d5d9bd0-7ce9-4a1e-a8b2-5c1dbb014917.jpg?1562800362',\n 'https://img.scryfall.com/cards/normal/front/8/0/80f74884-9b82-419d-9e97-c947a6b7d09f.jpg?1562801852',\n 'https://img.scryfall.com/cards/normal/front/2/d/2df9fb85-f7fa-4617-87bd-4d457c830f46.jpg?1562800043',\n 'https://img.scryfall.com/cards/normal/front/5/9/592a5683-5f2f-4933-9fc3-5f7773f72f93.jpg?1562800961',\n 'https://img.scryfall.com/cards/normal/front/e/9/e98bca31-8c05-430b-b5d7-331bdc55710a.jpg?1562804019',\n 'https://img.scryfall.com/cards/normal/front/d/c/dca975ab-b3ee-4584-9f92-860b4c2369f3.jpg?1562803733',\n 'https://img.scryfall.com/cards/normal/front/4/3/432a6908-0ee3-45c5-9089-b7f8cf1184bb.jpg?1562800502',\n 'https://img.scryfall.com/cards/normal/front/2/4/24333832-2a87-4810-9443-ec993468d103.jpg?1562799834',\n 'https://img.scryfall.com/cards/normal/front/c/b/cbf39b80-d972-4f79-902f-cc613c32e446.jpg?1562803373',\n 'https://img.scryfall.com/cards/normal/front/b/9/b9c9691b-bee8-4251-8275-5f6ba14a8ecd.jpg?1562802974',\n 'https://img.scryfall.com/cards/normal/front/f/2/f26672a8-f4ff-4c64-bb3e-f5072bbc9e3e.jpg?1562804204',\n 'https://img.scryfall.com/cards/normal/front/8/b/8becb285-cd91-4de0-af59-ddaa7d8c5366.jpg?1562802052',\n 'https://img.scryfall.com/cards/normal/front/8/0/80076580-23f1-4008-ab91-9dad8c806cfa.jpg?1562290500',\n 'https://img.scryfall.com/cards/normal/front/0/c/0ce7d93d-3998-4486-b277-e4f91f6e3feb.jpg?1562281816',\n 'https://img.scryfall.com/cards/normal/front/f/b/fbf140fa-a901-41a5-a10f-f97ccef72fcc.jpg?1562299822',\n 'https://img.scryfall.com/cards/normal/front/c/0/c0a36448-ca96-4c10-baf9-89c248c3510b.jpg?1562295447',\n 'https://img.scryfall.com/cards/normal/front/4/e/4e532309-5cf9-4d12-b673-f9baad30b800.jpg?1562286827',\n 'https://img.scryfall.com/cards/normal/front/7/7/77983bbf-6761-4126-82b4-bdcdd6b8e1dc.jpg?1562289972',\n 'https://img.scryfall.com/cards/normal/front/7/5/75eb8537-42c9-41d5-be0a-1186bc8dee0b.jpg?1562289946',\n 'https://img.scryfall.com/cards/normal/front/8/7/87d3a425-01d1-4001-92f9-8e297dd862b7.jpg?1562291349',\n 'https://img.scryfall.com/cards/normal/front/f/0/f0b60f10-0997-46ec-8914-f5cdde76cf75.jpg?1562299117',\n 'https://img.scryfall.com/cards/normal/front/5/5/555063cc-99ad-4014-b17b-c4c6b40d2e81.jpg?1562287365',\n 'https://img.scryfall.com/cards/normal/front/3/6/367e7821-44f1-4064-a9a3-d9852c7c235c.jpg?1562284930',\n 'https://img.scryfall.com/cards/normal/front/9/b/9bad0759-4132-42b5-9a26-0fcf321a60e0.jpg?1562292553',\n 'https://img.scryfall.com/cards/normal/front/5/b/5ba70d58-69fd-4675-85d2-90bc2595c01c.jpg?1562556037',\n 'https://img.scryfall.com/cards/normal/front/7/6/767e2bfb-bcf5-442c-b092-bdb1f4f13561.jpg?1562558283',\n 'https://img.scryfall.com/cards/normal/front/4/f/4fe5d069-45a0-46ea-b3ec-4e75f0531382.jpg?1562612127',\n 'https://img.scryfall.com/cards/normal/front/e/2/e2ceff22-0270-4c9d-9ae2-f40a7047335b.jpg?1562617625']"
     },
     "execution_count": 81,
     "metadata": {},
     "output_type": "execute_result"
    }
   ],
   "source": [
    "\n",
    "\n",
    "def top_commanders(in_, frame = data): # filters commander collor identities\n",
    "    frame = frame.query(f'is_commander == 1')\n",
    "    uri = []\n",
    "    if in_ == None: # filters colorless\n",
    "        frame1 = frame.query('colorIdentity_colorless == 1')\n",
    "        uri_result = list(frame1['uri'])\n",
    "    else: # all others\n",
    "        for i in in_:\n",
    "            temp = frame[[f'colorIdentity_{i}','name','uri']]# ,'use']]\n",
    "            uri += list(temp['uri'].dropna())# temp['use']))# need to get use data\n",
    "        uri_frame =  pd.DataFrame(uri)  #  'use']))\n",
    "        uri_frame.columns = ['uri'] #'use]\n",
    "        uri_result = list(uri_frame.dropna()['uri'].unique())\n",
    "    return uri_result\n",
    "top_commanders(['Black'])"
   ]
  },
  {
   "cell_type": "code",
   "execution_count": 29,
   "metadata": {},
   "outputs": [
    {
     "data": {
      "text/html": "<div>\n<style scoped>\n    .dataframe tbody tr th:only-of-type {\n        vertical-align: middle;\n    }\n\n    .dataframe tbody tr th {\n        vertical-align: top;\n    }\n\n    .dataframe thead th {\n        text-align: right;\n    }\n</style>\n<table border=\"1\" class=\"dataframe\">\n  <thead>\n    <tr style=\"text-align: right;\">\n      <th></th>\n      <th>name</th>\n      <th>uri</th>\n    </tr>\n  </thead>\n  <tbody>\n    <tr>\n      <th>7</th>\n      <td>Ambassador Laquatus</td>\n      <td>https://img.scryfall.com/cards/normal/front/6/f/6fdd01bd-ab41-4005-8807-46db0cfc4da4.jpg?1562549580</td>\n    </tr>\n    <tr>\n      <th>16</th>\n      <td>Arcanis the Omnipotent</td>\n      <td>https://img.scryfall.com/cards/normal/front/b/b/bba2cd91-84a7-4d05-9a0c-55440491be1e.jpg?1562554259</td>\n    </tr>\n    <tr>\n      <th>17</th>\n      <td>Ascendant Evincar</td>\n      <td>https://img.scryfall.com/cards/normal/front/3/a/3a67d7ae-3117-433f-ad82-44a4f015fecf.jpg?1562546342</td>\n    </tr>\n    <tr>\n      <th>47</th>\n      <td>Cho-Manno, Revolutionary</td>\n      <td>https://img.scryfall.com/cards/normal/front/d/a/da6b8e11-b799-4235-bd8f-c4b55946c769.jpg?1562556139</td>\n    </tr>\n    <tr>\n      <th>153</th>\n      <td>Kamahl, Pit Fighter</td>\n      <td>https://img.scryfall.com/cards/normal/front/9/8/983874b1-3179-4ac6-a4f3-efa133331c6f.jpg?1562552072</td>\n    </tr>\n  </tbody>\n</table>\n</div>",
      "text/plain": "                         name  \\\n7         Ambassador Laquatus   \n16     Arcanis the Omnipotent   \n17          Ascendant Evincar   \n47   Cho-Manno, Revolutionary   \n153       Kamahl, Pit Fighter   \n\n                                                                                                     uri  \n7    https://img.scryfall.com/cards/normal/front/6/f/6fdd01bd-ab41-4005-8807-46db0cfc4da4.jpg?1562549580  \n16   https://img.scryfall.com/cards/normal/front/b/b/bba2cd91-84a7-4d05-9a0c-55440491be1e.jpg?1562554259  \n17   https://img.scryfall.com/cards/normal/front/3/a/3a67d7ae-3117-433f-ad82-44a4f015fecf.jpg?1562546342  \n47   https://img.scryfall.com/cards/normal/front/d/a/da6b8e11-b799-4235-bd8f-c4b55946c769.jpg?1562556139  \n153  https://img.scryfall.com/cards/normal/front/9/8/983874b1-3179-4ac6-a4f3-efa133331c6f.jpg?1562552072  "
     },
     "execution_count": 29,
     "metadata": {},
     "output_type": "execute_result"
    }
   ],
   "source": [
    "pd.set_option('max_colwidth',400)\n",
    "data.query('is_commander == \"1\"').head()[['name', 'uri']]"
   ]
  },
  {
   "cell_type": "code",
   "execution_count": 30,
   "metadata": {},
   "outputs": [
    {
     "data": {
      "text/plain": "16    0ed53483-4bec-491b-9ae6-afc6faf122a2\nName: scryfallId, dtype: object"
     },
     "execution_count": 30,
     "metadata": {},
     "output_type": "execute_result"
    }
   ],
   "source": [
    "data.query('name==\"Arcanis the Omnipotent\"')['scryfallId']"
   ]
  },
  {
   "cell_type": "code",
   "execution_count": 36,
   "metadata": {},
   "outputs": [],
   "source": [
    "def image_uri():\n",
    "    temp = pd.read_csv('Images/img_uri.csv')\n",
    "    temp.columns = ['index', 'uri']\n",
    "    temp.set_index('index', inplace =True)\n",
    "    return temp['uri']\n",
    "# image_uri().head(17)"
   ]
  },
  {
   "cell_type": "code",
   "execution_count": null,
   "metadata": {},
   "outputs": [],
   "source": [
    "d_in_ = '10001'\n",
    "\n",
    "temp.query(f\"color_identity == {d_in_}\")\n",
    "temp = frame[['name','uri']]# ,'use']]\n",
    "uri += list(temp['uri'].dropna())# temp['use']))# need to get use data\n",
    "uri_frame =  pd.DataFrame(uri)  #  'use']))\n",
    "uri_frame.columns = ['uri'] #'use]\n",
    "uri_result = list(uri_frame.dropna().query('uri != \"0\"')['uri'].unique())\n",
    "return uri_result #.sortvalues(by =['use'], ascending = False) # as above"
   ]
  },
  {
   "cell_type": "code",
   "execution_count": 120,
   "metadata": {},
   "outputs": [
    {
     "data": {
      "text/plain": "['Ulamog, the Ceaseless Hunger',\n 'Emrakul, the Promised End',\n 'Emrakul, the Aeons Torn',\n 'Kozilek, Butcher of Truth',\n 'Ulamog, the Infinite Gyre',\n 'Kozilek, the Great Distortion']"
     },
     "execution_count": 120,
     "metadata": {},
     "output_type": "execute_result"
    }
   ],
   "source": [
    "def top_commanders(in_, frame = data): # filters commander collor identities\n",
    "    colors =  ['Black','White','Red','Blue','Green']\n",
    "    frame = frame.query('is_commander == 1')\n",
    "    if in_ == [False,False,False,False,False]:\n",
    "        color = ['colorless']\n",
    "    else:\n",
    "        color = [b for a, b in zip(in_, colors) if a]\n",
    "    for i in color:\n",
    "        frame = frame.query(f'colorIdentity_{i} == 1')\n",
    "    return list(frame['name'])\n",
    "top_commanders([False,False,False,False,False])"
   ]
  },
  {
   "cell_type": "code",
   "execution_count": 99,
   "metadata": {},
   "outputs": [
    {
     "data": {
      "text/html": "<div>\n<style scoped>\n    .dataframe tbody tr th:only-of-type {\n        vertical-align: middle;\n    }\n\n    .dataframe tbody tr th {\n        vertical-align: top;\n    }\n\n    .dataframe thead th {\n        text-align: right;\n    }\n</style>\n<table border=\"1\" class=\"dataframe\">\n  <thead>\n    <tr style=\"text-align: right;\">\n      <th></th>\n      <th>Unnamed: 0</th>\n      <th>name</th>\n      <th>power</th>\n      <th>toughness</th>\n      <th>text</th>\n      <th>types</th>\n      <th>type</th>\n      <th>subtypes</th>\n      <th>rarity</th>\n      <th>convertedManaCost</th>\n      <th>faceConvertedManaCost</th>\n      <th>side</th>\n      <th>scryfallId</th>\n      <th>manaCost_Green</th>\n      <th>manaCost_Blue</th>\n      <th>manaCost_Black</th>\n      <th>manaCost_Red</th>\n      <th>manaCost_White</th>\n      <th>manaCost_colorless</th>\n      <th>colorIdentity_Green</th>\n      <th>colorIdentity_Blue</th>\n      <th>colorIdentity_Black</th>\n      <th>colorIdentity_Red</th>\n      <th>colorIdentity_White</th>\n      <th>color_identity</th>\n      <th>is_commander</th>\n      <th>uri</th>\n    </tr>\n  </thead>\n  <tbody>\n  </tbody>\n</table>\n</div>",
      "text/plain": "Empty DataFrame\nColumns: [Unnamed: 0, name, power, toughness, text, types, type, subtypes, rarity, convertedManaCost, faceConvertedManaCost, side, scryfallId, manaCost_Green, manaCost_Blue, manaCost_Black, manaCost_Red, manaCost_White, manaCost_colorless, colorIdentity_Green, colorIdentity_Blue, colorIdentity_Black, colorIdentity_Red, colorIdentity_White, color_identity, is_commander, uri]\nIndex: []"
     },
     "execution_count": 99,
     "metadata": {},
     "output_type": "execute_result"
    }
   ],
   "source": [
    "data.query('color_identity == [0, 0, 0, 0, 0]')"
   ]
  },
  {
   "cell_type": "code",
   "execution_count": null,
   "metadata": {},
   "outputs": [],
   "source": []
  }
 ]
}